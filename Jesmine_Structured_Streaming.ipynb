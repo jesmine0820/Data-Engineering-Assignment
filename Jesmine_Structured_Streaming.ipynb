{
 "cells": [
  {
   "cell_type": "markdown",
   "id": "3f3b45fa-c93c-4dc0-b3a4-9f2ee7a5ae4c",
   "metadata": {},
   "source": [
    "# Structured Streaming - Jesmine Tey Khai Jing"
   ]
  },
  {
   "cell_type": "code",
   "execution_count": 1,
   "id": "21e3b69d-c6b1-40b3-881c-39ea23f40e7e",
   "metadata": {},
   "outputs": [
    {
     "name": "stderr",
     "output_type": "stream",
     "text": [
      "24/12/21 20:38:56 WARN Utils: Your hostname, MSI. resolves to a loopback address: 127.0.1.1; using 10.255.255.254 instead (on interface lo)\n",
      "24/12/21 20:38:56 WARN Utils: Set SPARK_LOCAL_IP if you need to bind to another address\n",
      "Setting default log level to \"WARN\".\n",
      "To adjust logging level use sc.setLogLevel(newLevel). For SparkR, use setLogLevel(newLevel).\n",
      "24/12/21 20:38:57 WARN NativeCodeLoader: Unable to load native-hadoop library for your platform... using builtin-java classes where applicable\n",
      "24/12/21 20:38:57 WARN Utils: Service 'SparkUI' could not bind on port 4040. Attempting port 4041.\n",
      "24/12/21 20:38:57 WARN Utils: Service 'SparkUI' could not bind on port 4041. Attempting port 4042.\n"
     ]
    }
   ],
   "source": [
    "from pyspark.sql import SparkSession\n",
    "from pyspark.sql.types import StructType, StructField, StringType\n",
    "from pyspark.sql.functions import col, lower, substring, current_timestamp, regexp_extract\n",
    "from time import sleep\n",
    "\n",
    "# Initialize Spark session\n",
    "spark = SparkSession.builder \\\n",
    "    .appName(\"Lexicon Data Cleaning with Structured Streaming\") \\\n",
    "    .getOrCreate()"
   ]
  },
  {
   "cell_type": "code",
   "execution_count": 2,
   "id": "3293868f-4b91-4d34-9446-17984ececcd7",
   "metadata": {},
   "outputs": [],
   "source": [
    "# Define schema for lexicon data\n",
    "schema = StructType([\n",
    "    StructField(\"Kata\", StringType(), True)\n",
    "])\n",
    "\n",
    "# Simulate streaming by reading files from a directory\n",
    "streaming_df = spark.readStream \\\n",
    "    .schema(schema) \\\n",
    "    .option(\"header\", \"true\") \\\n",
    "    .option(\"maxFilesPerTrigger\", 1) \\\n",
    "    .csv(\"data\")"
   ]
  },
  {
   "cell_type": "code",
   "execution_count": 3,
   "id": "69381e0f-ed23-418b-a36c-505843e724a8",
   "metadata": {},
   "outputs": [],
   "source": [
    "# Perform data cleaning\n",
    "cleaned_df = streaming_df.na.drop() \n",
    "cleaned_df = cleaned_df.withColumn(\"Kata\", lower(col(\"Kata\"))) \n",
    "\n",
    "# Extract the first character of each word\n",
    "cleaned_df = cleaned_df.withColumn(\"Alphabet\", substring(col(\"Kata\"), 1, 1))\n",
    "\n",
    "cleaned_df = cleaned_df.filter(regexp_extract(col(\"Alphabet\"), \"^[a-zA-Z]$\", 0) != \"\")\n",
    "\n",
    "cleaned_df = cleaned_df.withColumn(\"Timestamp\", current_timestamp())\n",
    "\n",
    "# Group by the extracted character and count the number of words\n",
    "wordCounts = cleaned_df.groupBy(\"Alphabet\").count()\n",
    "\n",
    "wordCounts = wordCounts.withColumn(\"Timestamp\", current_timestamp())\n",
    "\n",
    "# Sort the results in ascending order by the character\n",
    "wordCounts = wordCounts.orderBy(\"Alphabet\")"
   ]
  },
  {
   "cell_type": "code",
   "execution_count": 4,
   "id": "43d26b40-2157-49e0-a5d1-f7304120ef96",
   "metadata": {},
   "outputs": [
    {
     "name": "stderr",
     "output_type": "stream",
     "text": [
      "24/12/21 20:39:01 WARN ResolveWriteToStream: Temporary checkpoint location created which is deleted normally when the query didn't fail: /tmp/temporary-4605e77f-6730-4794-972f-8af852324b29. If it's required to delete it under any circumstances, please set spark.sql.streaming.forceDeleteTempCheckpointLocation to true. Important to know deleting temp checkpoint folder is best effort.\n",
      "24/12/21 20:39:01 WARN ResolveWriteToStream: spark.sql.adaptive.enabled is not supported in streaming DataFrames/Datasets and will be disabled.\n",
      "24/12/21 20:39:05 WARN CSVHeaderChecker: Number of column in CSV header is not equal to number of fields in the schema:\n",
      " Header length: 4, schema size: 1\n",
      "CSV file: hdfs://localhost:9000/user/student/data/lexicon_streaming.csv\n",
      "[Stage 1:===============================================>      (175 + 12) / 200]\r"
     ]
    },
    {
     "name": "stdout",
     "output_type": "stream",
     "text": [
      "+--------+-----+---------+\n",
      "|Alphabet|count|Timestamp|\n",
      "+--------+-----+---------+\n",
      "+--------+-----+---------+\n",
      "\n"
     ]
    },
    {
     "name": "stderr",
     "output_type": "stream",
     "text": [
      "24/12/21 20:39:10 WARN ProcessingTimeExecutor: Current batch is falling behind. The trigger interval is 1000 milliseconds, but spent 8817 milliseconds\n"
     ]
    },
    {
     "name": "stdout",
     "output_type": "stream",
     "text": [
      "+--------+-----+--------------------+\n",
      "|Alphabet|count|           Timestamp|\n",
      "+--------+-----+--------------------+\n",
      "|       a|  218|2024-12-21 20:39:...|\n",
      "|       b|  228|2024-12-21 20:39:...|\n",
      "|       c|   71|2024-12-21 20:39:...|\n",
      "|       d|  169|2024-12-21 20:39:...|\n",
      "|       e|   46|2024-12-21 20:39:...|\n",
      "|       f|   35|2024-12-21 20:39:...|\n",
      "|       g|   73|2024-12-21 20:39:...|\n",
      "|       h|   86|2024-12-21 20:39:...|\n",
      "|       i|   74|2024-12-21 20:39:...|\n",
      "|       j|   63|2024-12-21 20:39:...|\n",
      "|       k|  347|2024-12-21 20:39:...|\n",
      "|       l|  114|2024-12-21 20:39:...|\n",
      "|       m|  228|2024-12-21 20:39:...|\n",
      "|       n|   45|2024-12-21 20:39:...|\n",
      "|       o|   32|2024-12-21 20:39:...|\n",
      "|       p|  377|2024-12-21 20:39:...|\n",
      "|       q|    1|2024-12-21 20:39:...|\n",
      "|       r|   83|2024-12-21 20:39:...|\n",
      "|       s|  407|2024-12-21 20:39:...|\n",
      "|       t|  193|2024-12-21 20:39:...|\n",
      "|       u|   41|2024-12-21 20:39:...|\n",
      "|       v|   12|2024-12-21 20:39:...|\n",
      "|       w|   45|2024-12-21 20:39:...|\n",
      "|       x|    2|2024-12-21 20:39:...|\n",
      "|       y|   16|2024-12-21 20:39:...|\n",
      "|       z|    9|2024-12-21 20:39:...|\n",
      "+--------+-----+--------------------+\n",
      "\n",
      "+--------+-----+--------------------+\n",
      "|Alphabet|count|           Timestamp|\n",
      "+--------+-----+--------------------+\n",
      "|       a|  218|2024-12-21 20:39:...|\n",
      "|       b|  228|2024-12-21 20:39:...|\n",
      "|       c|   71|2024-12-21 20:39:...|\n",
      "|       d|  169|2024-12-21 20:39:...|\n",
      "|       e|   46|2024-12-21 20:39:...|\n",
      "|       f|   35|2024-12-21 20:39:...|\n",
      "|       g|   73|2024-12-21 20:39:...|\n",
      "|       h|   86|2024-12-21 20:39:...|\n",
      "|       i|   74|2024-12-21 20:39:...|\n",
      "|       j|   63|2024-12-21 20:39:...|\n",
      "|       k|  347|2024-12-21 20:39:...|\n",
      "|       l|  114|2024-12-21 20:39:...|\n",
      "|       m|  228|2024-12-21 20:39:...|\n",
      "|       n|   45|2024-12-21 20:39:...|\n",
      "|       o|   32|2024-12-21 20:39:...|\n",
      "|       p|  377|2024-12-21 20:39:...|\n",
      "|       q|    1|2024-12-21 20:39:...|\n",
      "|       r|   83|2024-12-21 20:39:...|\n",
      "|       s|  407|2024-12-21 20:39:...|\n",
      "|       t|  193|2024-12-21 20:39:...|\n",
      "|       u|   41|2024-12-21 20:39:...|\n",
      "|       v|   12|2024-12-21 20:39:...|\n",
      "|       w|   45|2024-12-21 20:39:...|\n",
      "|       x|    2|2024-12-21 20:39:...|\n",
      "|       y|   16|2024-12-21 20:39:...|\n",
      "|       z|    9|2024-12-21 20:39:...|\n",
      "+--------+-----+--------------------+\n",
      "\n",
      "+--------+-----+--------------------+\n",
      "|Alphabet|count|           Timestamp|\n",
      "+--------+-----+--------------------+\n",
      "|       a|  218|2024-12-21 20:39:...|\n",
      "|       b|  228|2024-12-21 20:39:...|\n",
      "|       c|   71|2024-12-21 20:39:...|\n",
      "|       d|  169|2024-12-21 20:39:...|\n",
      "|       e|   46|2024-12-21 20:39:...|\n",
      "|       f|   35|2024-12-21 20:39:...|\n",
      "|       g|   73|2024-12-21 20:39:...|\n",
      "|       h|   86|2024-12-21 20:39:...|\n",
      "|       i|   74|2024-12-21 20:39:...|\n",
      "|       j|   63|2024-12-21 20:39:...|\n",
      "|       k|  347|2024-12-21 20:39:...|\n",
      "|       l|  114|2024-12-21 20:39:...|\n",
      "|       m|  228|2024-12-21 20:39:...|\n",
      "|       n|   45|2024-12-21 20:39:...|\n",
      "|       o|   32|2024-12-21 20:39:...|\n",
      "|       p|  377|2024-12-21 20:39:...|\n",
      "|       q|    1|2024-12-21 20:39:...|\n",
      "|       r|   83|2024-12-21 20:39:...|\n",
      "|       s|  407|2024-12-21 20:39:...|\n",
      "|       t|  193|2024-12-21 20:39:...|\n",
      "|       u|   41|2024-12-21 20:39:...|\n",
      "|       v|   12|2024-12-21 20:39:...|\n",
      "|       w|   45|2024-12-21 20:39:...|\n",
      "|       x|    2|2024-12-21 20:39:...|\n",
      "|       y|   16|2024-12-21 20:39:...|\n",
      "|       z|    9|2024-12-21 20:39:...|\n",
      "+--------+-----+--------------------+\n",
      "\n",
      "+--------+-----+--------------------+\n",
      "|Alphabet|count|           Timestamp|\n",
      "+--------+-----+--------------------+\n",
      "|       a|  218|2024-12-21 20:39:...|\n",
      "|       b|  228|2024-12-21 20:39:...|\n",
      "|       c|   71|2024-12-21 20:39:...|\n",
      "|       d|  169|2024-12-21 20:39:...|\n",
      "|       e|   46|2024-12-21 20:39:...|\n",
      "|       f|   35|2024-12-21 20:39:...|\n",
      "|       g|   73|2024-12-21 20:39:...|\n",
      "|       h|   86|2024-12-21 20:39:...|\n",
      "|       i|   74|2024-12-21 20:39:...|\n",
      "|       j|   63|2024-12-21 20:39:...|\n",
      "|       k|  347|2024-12-21 20:39:...|\n",
      "|       l|  114|2024-12-21 20:39:...|\n",
      "|       m|  228|2024-12-21 20:39:...|\n",
      "|       n|   45|2024-12-21 20:39:...|\n",
      "|       o|   32|2024-12-21 20:39:...|\n",
      "|       p|  377|2024-12-21 20:39:...|\n",
      "|       q|    1|2024-12-21 20:39:...|\n",
      "|       r|   83|2024-12-21 20:39:...|\n",
      "|       s|  407|2024-12-21 20:39:...|\n",
      "|       t|  193|2024-12-21 20:39:...|\n",
      "|       u|   41|2024-12-21 20:39:...|\n",
      "|       v|   12|2024-12-21 20:39:...|\n",
      "|       w|   45|2024-12-21 20:39:...|\n",
      "|       x|    2|2024-12-21 20:39:...|\n",
      "|       y|   16|2024-12-21 20:39:...|\n",
      "|       z|    9|2024-12-21 20:39:...|\n",
      "+--------+-----+--------------------+\n",
      "\n"
     ]
    }
   ],
   "source": [
    "query = wordCounts.writeStream \\\n",
    "    .queryName(\"word_counts\") \\\n",
    "    .format(\"memory\") \\\n",
    "    .outputMode(\"complete\") \\\n",
    "    .trigger(processingTime=\"1 second\") \\\n",
    "    .start()\n",
    "\n",
    "sleep(5)\n",
    "\n",
    "for i in range(5):\n",
    "    spark.sql(\"SELECT * FROM word_counts\").show(26)\n",
    "    sleep(3)"
   ]
  },
  {
   "cell_type": "code",
   "execution_count": 5,
   "id": "f2f67dad-d59b-4678-b094-de1419abfe78",
   "metadata": {},
   "outputs": [],
   "source": [
    "query.stop()"
   ]
  },
  {
   "cell_type": "code",
   "execution_count": 6,
   "id": "1671a23c-f1e4-401c-b5ec-e66e544a8c81",
   "metadata": {},
   "outputs": [],
   "source": [
    "spark.stop()"
   ]
  }
 ],
 "metadata": {
  "kernelspec": {
   "display_name": "de-venv",
   "language": "python",
   "name": "de-venv"
  },
  "language_info": {
   "codemirror_mode": {
    "name": "ipython",
    "version": 3
   },
   "file_extension": ".py",
   "mimetype": "text/x-python",
   "name": "python",
   "nbconvert_exporter": "python",
   "pygments_lexer": "ipython3",
   "version": "3.10.12"
  }
 },
 "nbformat": 4,
 "nbformat_minor": 5
}
