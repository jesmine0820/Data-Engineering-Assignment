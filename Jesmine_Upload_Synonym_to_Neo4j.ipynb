{
 "cells": [
  {
   "cell_type": "markdown",
   "id": "1c96a046-9aa7-4781-b120-360fe13b8dea",
   "metadata": {},
   "source": [
    "# Upload Synonym to neo4j"
   ]
  },
  {
   "cell_type": "code",
   "execution_count": 1,
   "id": "43c62f0c-5de0-4fb8-abed-bbc63635a2fd",
   "metadata": {},
   "outputs": [
    {
     "name": "stderr",
     "output_type": "stream",
     "text": [
      "24/12/21 18:01:04 WARN Utils: Your hostname, MSI. resolves to a loopback address: 127.0.1.1; using 10.255.255.254 instead (on interface lo)\n",
      "24/12/21 18:01:04 WARN Utils: Set SPARK_LOCAL_IP if you need to bind to another address\n",
      "Setting default log level to \"WARN\".\n",
      "To adjust logging level use sc.setLogLevel(newLevel). For SparkR, use setLogLevel(newLevel).\n",
      "24/12/21 18:01:05 WARN NativeCodeLoader: Unable to load native-hadoop library for your platform... using builtin-java classes where applicable\n"
     ]
    }
   ],
   "source": [
    "from pyspark.sql import SparkSession\n",
    "from data_class.Jesmine_Network_of_Synonym import Network_of_Synonym\n",
    "from data_class.Neo4j import Neo4jQuery\n",
    "from uuid import uuid4\n",
    "\n",
    "# Initialize Spark Session\n",
    "spark = SparkSession.builder \\\n",
    "    .appName(\"CSV to Neo4j\") \\\n",
    "    .getOrCreate()\n",
    "\n",
    "# Initialize Neo4j connection\n",
    "URI = \"neo4j+s://2257c2b1.databases.neo4j.io\"  ###Remember to replace\n",
    "neo4j_user = \"neo4j\"\n",
    "neo4j_password = \"9GMnG4B136sU9Onf8VugQuULe2UMZ7vPjeuD-1nCqbQ\" ###Remember to replace\n",
    "\n",
    "# Create a Neo4jConnection instance\n",
    "neo4j_conn = Neo4jQuery(uri=URI, user=neo4j_user, password=neo4j_password)"
   ]
  },
  {
   "cell_type": "code",
   "execution_count": 2,
   "id": "63b083c0-eab5-4df5-9e9f-b15923f98c75",
   "metadata": {},
   "outputs": [],
   "source": [
    "# Read CSV file from HDFS\n",
    "df = spark.read.csv(\n",
    "    \"sinonim.csv\", \n",
    "    header=True,         \n",
    "    inferSchema=True,   \n",
    "    multiLine=True,     \n",
    "    sep=\",\"         \n",
    ")\n",
    "\n",
    "# Collect all rows into a list of dictionaries\n",
    "nodes = df.collect()"
   ]
  },
  {
   "cell_type": "markdown",
   "id": "80c932b3-0517-4a16-aeaf-d27ac7762b29",
   "metadata": {},
   "source": [
    "create_synonym_query = \"\"\"\n",
    "MERGE (word:Word {name: $word})\n",
    "WITH word\n",
    "UNWIND $synonyms AS synonym\n",
    "MERGE (synonymNode:Word {name: synonym})\n",
    "MERGE (word)-[:SYNONYM_OF]->(synonymNode)\n",
    "\"\"\"\n",
    "\n",
    "for row in nodes:\n",
    "    tema = row[\"kata\"]\n",
    "    sinonim_list = row[\"sinonim\"].split(\", \")  \n",
    "\n",
    "    neo4j_conn.execute_query(\n",
    "        query=create_synonym_query,\n",
    "        parameters={\"word\": tema, \"synonyms\": sinonim_list}\n",
    "    )\n",
    "\n",
    "print(\"Data successfully uploaded to Neo4j!\")"
   ]
  },
  {
   "cell_type": "code",
   "execution_count": 4,
   "id": "5ee3de92-cb97-49d8-9c16-ac1d75ca0670",
   "metadata": {},
   "outputs": [],
   "source": [
    "neo4j_conn.close()\n",
    "spark.stop()"
   ]
  },
  {
   "cell_type": "code",
   "execution_count": null,
   "id": "e7282eb6-13f6-464a-840f-9f085f9df2de",
   "metadata": {},
   "outputs": [],
   "source": []
  }
 ],
 "metadata": {
  "kernelspec": {
   "display_name": "de-venv",
   "language": "python",
   "name": "de-venv"
  },
  "language_info": {
   "codemirror_mode": {
    "name": "ipython",
    "version": 3
   },
   "file_extension": ".py",
   "mimetype": "text/x-python",
   "name": "python",
   "nbconvert_exporter": "python",
   "pygments_lexer": "ipython3",
   "version": "3.10.12"
  }
 },
 "nbformat": 4,
 "nbformat_minor": 5
}
