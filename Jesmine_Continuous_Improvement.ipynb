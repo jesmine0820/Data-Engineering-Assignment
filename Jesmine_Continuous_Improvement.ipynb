{
 "cells": [
  {
   "cell_type": "markdown",
   "id": "9f7e22ca-8d2b-425a-8713-8564f6536ae6",
   "metadata": {},
   "source": [
    "# Individual Part - Continuous Improvement - Jesmine Tey Khai Jing"
   ]
  },
  {
   "cell_type": "code",
   "execution_count": 1,
   "id": "f3c5a097-f563-46b6-85ca-0283ba1f5ffc",
   "metadata": {},
   "outputs": [
    {
     "name": "stderr",
     "output_type": "stream",
     "text": [
      "24/12/21 17:42:17 WARN Utils: Your hostname, MSI. resolves to a loopback address: 127.0.1.1; using 10.255.255.254 instead (on interface lo)\n",
      "24/12/21 17:42:17 WARN Utils: Set SPARK_LOCAL_IP if you need to bind to another address\n",
      "Setting default log level to \"WARN\".\n",
      "To adjust logging level use sc.setLogLevel(newLevel). For SparkR, use setLogLevel(newLevel).\n",
      "24/12/21 17:42:17 WARN NativeCodeLoader: Unable to load native-hadoop library for your platform... using builtin-java classes where applicable\n"
     ]
    }
   ],
   "source": [
    "from pyspark.sql import SparkSession\n",
    "from pyspark.sql.functions import col, udf\n",
    "from pyspark.sql.types import StringType\n",
    "from data_class.Jesmine_Continuous_Improvement import Continuous_Improvement\n",
    "from neo4j import GraphDatabase\n",
    "import csv\n",
    "\n",
    "# Initialize Spark session\n",
    "spark = SparkSession.builder.appName(\"Update_Lexicon\").getOrCreate()"
   ]
  },
  {
   "cell_type": "code",
   "execution_count": 2,
   "id": "7ede8cca-18a3-4738-8318-dcf6bc7c959a",
   "metadata": {},
   "outputs": [],
   "source": [
    "# Initialize Neo4j connection\n",
    "URI = \"neo4j+s://2257c2b1.databases.neo4j.io\"  ###Remember to replace\n",
    "neo4j_user = \"neo4j\"\n",
    "neo4j_password = \"9GMnG4B136sU9Onf8VugQuULe2UMZ7vPjeuD-1nCqbQ\" ###Remember to replace\n",
    "\n",
    "# Create instance of Continuous_Improvement\n",
    "ci = Continuous_Improvement(URI, neo4j_user, neo4j_password, spark)"
   ]
  },
  {
   "cell_type": "code",
   "execution_count": 3,
   "id": "a7ca0336-449c-43a5-83fb-35823a8319d4",
   "metadata": {},
   "outputs": [
    {
     "name": "stdout",
     "output_type": "stream",
     "text": [
      " ~~ Improvement Main Menu ~~ \n",
      "|   1. Upload File          |\n",
      "|   2. Update Single Word   |\n",
      "|   3. Exit                 |\n",
      " ~~~~~~~~~~~~~~~~~~~~~~~~~~~ \n"
     ]
    },
    {
     "name": "stdin",
     "output_type": "stream",
     "text": [
      "Please select an option (1-3):  2\n"
     ]
    },
    {
     "name": "stdout",
     "output_type": "stream",
     "text": [
      "\n",
      " ~~ Update Single Word ~~ \n",
      "|  1. Update Word        |\n",
      "|  2. Update Meaning     |\n",
      "|  3. Update Translation |\n",
      "|  4. Update POS         |\n",
      "|  5. Update New Word    |\n",
      "|  6. Delete Word        |\n",
      "|  7. Exit               |\n",
      " ~~~~~~~~~~~~~~~~~~~~~~~~ \n"
     ]
    },
    {
     "name": "stdin",
     "output_type": "stream",
     "text": [
      "Please select an option (1-7):  3\n",
      "Enter the word to update:  meja\n"
     ]
    },
    {
     "name": "stdout",
     "output_type": "stream",
     "text": [
      "Word found in the database.\n",
      "meja\n",
      "desk\n",
      "The translation for word 'meja' is already up to date.\n",
      "\n",
      " ~~ Update Single Word ~~ \n",
      "|  1. Update Word        |\n",
      "|  2. Update Meaning     |\n",
      "|  3. Update Translation |\n",
      "|  4. Update POS         |\n",
      "|  5. Update New Word    |\n",
      "|  6. Delete Word        |\n",
      "|  7. Exit               |\n",
      " ~~~~~~~~~~~~~~~~~~~~~~~~ \n"
     ]
    },
    {
     "name": "stdin",
     "output_type": "stream",
     "text": [
      "Please select an option (1-7):  4\n",
      "Enter the word to update:  kerusi\n"
     ]
    },
    {
     "name": "stderr",
     "output_type": "stream",
     "text": [
      "Received notification from DBMS server: {severity: WARNING} {code: Neo.ClientNotification.Statement.UnknownRelationshipTypeWarning} {category: UNRECOGNIZED} {title: The provided relationship type is not in the database.} {description: One of the relationship types in your query is not available in the database, make sure you didn't misspell it or that the label is available when you run this statement in your application (the missing relationship type is: TERGOLONG_DALAM)} {position: line: 1, column: 36, offset: 35} for query: 'MATCH (k:KosaKata {kata: $word})-[:TERGOLONG_DALAM]->(g:GolonganKata) RETURN g:GkID AS golongan_id, g.golongan_kata AS existing_golongan'\n",
      "Received notification from DBMS server: {severity: WARNING} {code: Neo.ClientNotification.Statement.UnknownLabelWarning} {category: UNRECOGNIZED} {title: The provided label is not in the database.} {description: One of the labels in your query is not available in the database, make sure you didn't misspell it or that the label is available when you run this statement in your application (the missing label name is: GkID)} {position: line: 1, column: 80, offset: 79} for query: 'MATCH (k:KosaKata {kata: $word})-[:TERGOLONG_DALAM]->(g:GolonganKata) RETURN g:GkID AS golongan_id, g.golongan_kata AS existing_golongan'\n",
      "Received notification from DBMS server: {severity: WARNING} {code: Neo.ClientNotification.Statement.UnknownPropertyKeyWarning} {category: UNRECOGNIZED} {title: The provided property key is not in the database} {description: One of the property names in your query is not available in the database, make sure you didn't misspell it or that the label is available when you run this statement in your application (the missing property name is: golongan_kata)} {position: line: 1, column: 103, offset: 102} for query: 'MATCH (k:KosaKata {kata: $word})-[:TERGOLONG_DALAM]->(g:GolonganKata) RETURN g:GkID AS golongan_id, g.golongan_kata AS existing_golongan'\n"
     ]
    },
    {
     "name": "stdout",
     "output_type": "stream",
     "text": [
      "Word found in the database.\n",
      "kerusi\n",
      "Kata Nama Am\n",
      "No Golongan Kata node found for word 'kerusi'. Golongan Kata was not updated.\n",
      "\n",
      " ~~ Update Single Word ~~ \n",
      "|  1. Update Word        |\n",
      "|  2. Update Meaning     |\n",
      "|  3. Update Translation |\n",
      "|  4. Update POS         |\n",
      "|  5. Update New Word    |\n",
      "|  6. Delete Word        |\n",
      "|  7. Exit               |\n",
      " ~~~~~~~~~~~~~~~~~~~~~~~~ \n"
     ]
    },
    {
     "name": "stdin",
     "output_type": "stream",
     "text": [
      "Please select an option (1-7):  5\n",
      "Enter the new word to add:  komputer\n"
     ]
    },
    {
     "name": "stdout",
     "output_type": "stream",
     "text": [
      "Attempting to upload new word: komputer\n",
      "Successfully connected to Neo4j\n",
      "Query result: None\n",
      "Fetched data: maksud=alat elektronik yang menganalisis, menyimpan dan mengeluarkan maklumat sebagaimana dikehendaki daripada data pada pita dll., terjemahan=computer, golongan_kata=Kata Nama Am\n",
      "New word 'komputer' added successfully.\n",
      "\n",
      " ~~ Update Single Word ~~ \n",
      "|  1. Update Word        |\n",
      "|  2. Update Meaning     |\n",
      "|  3. Update Translation |\n",
      "|  4. Update POS         |\n",
      "|  5. Update New Word    |\n",
      "|  6. Delete Word        |\n",
      "|  7. Exit               |\n",
      " ~~~~~~~~~~~~~~~~~~~~~~~~ \n"
     ]
    },
    {
     "name": "stdin",
     "output_type": "stream",
     "text": [
      "Please select an option (1-7):  6\n",
      "Enter the word to delete:  kuching\n"
     ]
    },
    {
     "name": "stdout",
     "output_type": "stream",
     "text": [
      "Word 'kuching' and its relationships have been deleted successfully.\n",
      "\n",
      " ~~ Update Single Word ~~ \n",
      "|  1. Update Word        |\n",
      "|  2. Update Meaning     |\n",
      "|  3. Update Translation |\n",
      "|  4. Update POS         |\n",
      "|  5. Update New Word    |\n",
      "|  6. Delete Word        |\n",
      "|  7. Exit               |\n",
      " ~~~~~~~~~~~~~~~~~~~~~~~~ \n"
     ]
    },
    {
     "name": "stdin",
     "output_type": "stream",
     "text": [
      "Please select an option (1-7):  7\n"
     ]
    },
    {
     "name": "stdout",
     "output_type": "stream",
     "text": [
      " ~~ Improvement Main Menu ~~ \n",
      "|   1. Upload File          |\n",
      "|   2. Update Single Word   |\n",
      "|   3. Exit                 |\n",
      " ~~~~~~~~~~~~~~~~~~~~~~~~~~~ \n"
     ]
    },
    {
     "name": "stdin",
     "output_type": "stream",
     "text": [
      "Please select an option (1-3):  3\n"
     ]
    },
    {
     "name": "stdout",
     "output_type": "stream",
     "text": [
      "Exiting the program...\n"
     ]
    }
   ],
   "source": [
    "# Call main_menu on the instance\n",
    "ci.main_menu()"
   ]
  },
  {
   "cell_type": "code",
   "execution_count": 4,
   "id": "15bc92d7-9c7c-4e55-a52b-b2c73e40940b",
   "metadata": {},
   "outputs": [],
   "source": [
    "spark.stop()"
   ]
  },
  {
   "cell_type": "code",
   "execution_count": null,
   "id": "ba4c0700-1bca-422d-bb1f-e959a0c3c00f",
   "metadata": {},
   "outputs": [],
   "source": []
  }
 ],
 "metadata": {
  "kernelspec": {
   "display_name": "de-venv",
   "language": "python",
   "name": "de-venv"
  },
  "language_info": {
   "codemirror_mode": {
    "name": "ipython",
    "version": 3
   },
   "file_extension": ".py",
   "mimetype": "text/x-python",
   "name": "python",
   "nbconvert_exporter": "python",
   "pygments_lexer": "ipython3",
   "version": "3.10.12"
  }
 },
 "nbformat": 4,
 "nbformat_minor": 5
}
