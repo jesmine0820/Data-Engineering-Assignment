{
 "cells": [
  {
   "cell_type": "markdown",
   "id": "9eed85b7-1808-44ca-afaa-d43cc16e8af0",
   "metadata": {},
   "source": [
    "# Data Collection"
   ]
  },
  {
   "cell_type": "markdown",
   "id": "5fe6dc94-7456-41b0-a6cd-39725a30810e",
   "metadata": {},
   "source": [
    "In this phase, the data is collected by using data crawling and web scraping. The data will be saved into a text file for future use."
   ]
  },
  {
   "cell_type": "markdown",
   "id": "4c5c17f8-c49f-44a7-83c1-cc71c80448ca",
   "metadata": {},
   "source": [
    "Initialize Spark Session"
   ]
  },
  {
   "cell_type": "code",
   "execution_count": 1,
   "id": "287d4419-b2e2-4d48-9067-ade89ead6929",
   "metadata": {},
   "outputs": [
    {
     "name": "stderr",
     "output_type": "stream",
     "text": [
      "24/12/21 17:50:27 WARN Utils: Your hostname, MSI. resolves to a loopback address: 127.0.1.1; using 10.255.255.254 instead (on interface lo)\n",
      "24/12/21 17:50:27 WARN Utils: Set SPARK_LOCAL_IP if you need to bind to another address\n",
      "Setting default log level to \"WARN\".\n",
      "To adjust logging level use sc.setLogLevel(newLevel). For SparkR, use setLogLevel(newLevel).\n",
      "24/12/21 17:50:28 WARN NativeCodeLoader: Unable to load native-hadoop library for your platform... using builtin-java classes where applicable\n"
     ]
    }
   ],
   "source": [
    "from pyspark.sql import SparkSession\n",
    "from pyspark.sql import functions\n",
    "\n",
    "#Initialize Spark session\n",
    "spark = SparkSession.builder.appName(\"WikipediaCrawler\").getOrCreate()\n",
    "sc = spark.sparkContext"
   ]
  },
  {
   "cell_type": "markdown",
   "id": "7f9a9251-b58b-465e-96c1-a22abbcdeb6f",
   "metadata": {},
   "source": [
    "# Jesmine Tey Khai Jing, Gan Khai Li"
   ]
  },
  {
   "cell_type": "markdown",
   "id": "a3d5e87d-e24e-4f68-8e11-c967f986ac7a",
   "metadata": {},
   "source": [
    "Data crawling for Wikipedia page"
   ]
  },
  {
   "cell_type": "code",
   "execution_count": 2,
   "id": "bf620940-3858-4e31-afd5-acf2447fc192",
   "metadata": {
    "scrolled": true
   },
   "outputs": [
    {
     "name": "stdout",
     "output_type": "stream",
     "text": [
      "Processing: Keluarga - https://ms.wikipedia.org/wiki/Keluarga\n",
      "Title: Keluarga\n",
      "Extracted paragraphs: ['Keluarga (Jawi: \\u200fکلوارݢ\\u200ecode: ms is deprecated \\u200e) ialah satu kumpulan manusia yang dihubungkan melalui pertalian darah, perkahwinan atau penjagaan di mana para anggotanya tinggal dalam suatu tempat di bawah suatu rumah dalam keadaan saling bergantungan.[1]\\n', 'Ia merupakan unit terkecil dalam sesebuah masyarakat yang asasnya terdiri daripada orang tua dan anak; orang tua tersebut ada baik secara berpasangan (sebagai suami isteri) ataupun tunggal - sama ada kerana kematian pasangan (duda atau janda) mahupun perceraian dengan pasangan tersebut.\\n', 'Menurut Salvicion dan Celis (1998) di dalam keluarga terdapat dua atau lebih dari dua pribadi yang tergabung kerana hubungan darah, hubungan perkahwinan atau pengangkatan, di hidupnya dalam satu rumah tangga, berinteraksi satu sama lain dan di dalam perannya masing-masing dan menciptakan serta mempertahankan suatu kebudayaan.[2]\\n', 'Di Barat, keluarga didefinisikan sebagai satu kumpulan manusia yang mempunyai hubungan darah atau pertalian sah seperti perkahwinan dan pengambilan anak angkat. Banyak ahli antropologi berpendapat istilah \"darah\" perlu difahami secara metaforik kerana banyak masyarakat bukan Barat mempunyai konsep berkeluarga yang tidak bersandarkan \"darah\".\\n', 'Berdasarkan antropologi dan sosiologi, fungsi utama sesebuah keluarga ialah untuk menambah bilangan anggota masyarakat sama ada dengan cara biologi atau sosial (iaitu perkahwinan). Oleh itu, seseorang akan merasai perubahan perasaan berkeluarga misalnya bagi anak anak, keluarga bersifat orientasi: keluarga bertanggungjawab untuk meletak mereka kepada masyarakat melalui pendidikan dan sebagainya. Manakala bagi ibu bapa, keluarga bersifat prokreasi yang mana matlamat utama ialah menghasilkan, membudayakan dan mensosialkan zuriat. Walau bagaimanapun menghasilkan zuriat bukanlah tujuan utama sesebuah keluarga. Dalam masyarakat yang mempunyai pembahagian dalam pekerjaan, kehendak berkeluarga, dan hasil hubungan antara suami dan isteri, pembentukan isi rumah yang produktif dan ekonomi adalah amat penting.\\n']\n",
      "Extracted points: ['Bersekedudukan', 'Hubungan kasih sayang', 'Keluarga', 'Kesemendaan', 'Kompersi']\n",
      "Extracted links: ['/wiki/Fail:Nuclearfamily.jpg', '/wiki/Fail:US-hoosier-family.jpg', '/wiki/Fail:People_together.svg', '/wiki/Hubungan_antara_perseorangan', '/w/index.php?title=Garis_kasar_hubungan&action=edit&redlink=1']\n",
      "Paragraphs and points saved to data/raw_paragraphs.txt\n",
      "Metadata saved to data/raw_metadata.json\n",
      "Processing: Kebudayaan_Malaysia - https://ms.wikipedia.org/wiki/Kebudayaan_Malaysia\n",
      "Title: Kebudayaan Malaysia\n",
      "Extracted paragraphs: ['Malaysia ialah sebuah negara berbilang kaum yang hidup dalam keadaan aman dan damai. Tiga kaum yang utama di Malaysia ialah Melayu, Cina dan India. Melayu merupakan kaum terbesar dengan membentuk 54% daripada penduduk Malaysia. Melayu adalah satu kaum yang beragama Islam, berbahasa Melayu dan mengamalkan budaya Melayu. Kaum Melayu mempunyai pengaruh yang penting dalam arena politik di Malaysia. Cina pula mewakili 25% daripada penduduk Malaysia dan tinggal di bandar-bandar besar di pantai barat semenanjung. Kebanyakan kaum Cina beragama Buddha, Taoisme atau Kristian, berbahasa Mandarin, Hokkien, Hakka, Kantonis atau Teochew dan lebih dominan dalam bidang ekonomi. India pula membentuk 7.5% daripada populasi. Kebanyakannya beragama Hindu, bertutur Tamil, Malayalam, dan Hindi. Selain itu, terdapat juga kaum Sikh, Serani atau Eurasian dan kaum bumiputera lain. Bahasa Melayu ialah bahasa rasmi Malaysia, tetapi Bahasa Inggeris digunakan untuk perniagaan.\\n', 'Kaum Bumiputera yang terbesar di Sarawak ialah Iban dengan 600,000 orang. Mereka tinggal di rumah panjang, dan menetap di sepanjang Sungai Rajang dan Sungai Lupar. Orang Bidayuh pula seramai 170,000 oarng tinggal di barat daya Sarawak. Orang Asli (140,000) tinggal di Semenanjung Malaysia. Dahulunya mereka merupakan pengumpul hasil hutan, hidup berpindah-randah, dan bercucuk tanam, tetapi kini sudah diserap ke dalam kehidupan moden Malaysia. Walau bagaimanapun, mereka kekal sebagai kumpulan etnik yang mempunyai pendapatan terendah berbanding kumpulan etnik yang lain. Kemungkinannya ini disebabkan sistem ekonomi mereka yang tidak bergantung kepada wang tunai, contohnya makanan dan rumah sebahagiannya dihasilkan dari keluaran hutan tanpa perlu dibeli. Bagaimanapun pihak kerajaan menawarkan peluang pelajaran yang samarata dan ada di antara mereka kini menjawat jawatan profesional seperti doktor.\\n', 'Muzik Malaysia merangkumi muzik tradisional dan kontemporari yang dimainkan oleh rakyat Malaysia. Muzik tradisional banyak dipengaruhi oleh budaya Cina, Islam, India dan Indonesia. Kebanyakan alat muzik terdiri daripada gendang, seruling, gong dan sebagainya. Negara ini mempunyai tradisi yang kuat dalam tarian, sesetengahnya berasal daripada Thai, India, dan Portugis. Selain itu, ada juga wayang kulit, silat, dan barangan kraf seperti batik, sulaman, dan barangan perak dan tembaga.\\n', 'Seperti rakyatnya, makanan di Malaysia adalah pelbagai, dari makanan berat seperti nasi lemak hinggalah yang ringan seperti kuih. Kerajaan Malaysia telah mengambil langkah mendefinisikan Budaya Malaysia menerusi \"Dasar Kebudayaan Kebangsaan 1971\", yang menentukan apa yang dianggap budaya rasmi, mendasarkannya kepada budaya Melayu dan mengintegrasikan pengaruh Islam. Bahasa yang sangat dipengaruhi ini; hanya teks Melayu yang dianggap sebagai teks budaya rasmi. Kawalan kerajaan ke atas media adalah kuat, dan kebanyakan saluran media berkaitan dengan kerajaan dalam beberapa cara.\\n', 'Malaysia terdiri daripada dua wilayah geografi yang berbeza: Semenanjung Malaysia dan Malaysia Timur. Malaysia dibentuk apabila Persekutuan Tanah Melayu bergabung dengan Borneo Utara (hari ini wilayah Sabah), Sarawak, dan Singapura (keluar pada 1965) pada tahun 1963,[1] dan perbezaan budaya antara Semenanjung dan Malaysia Timur kekal. Semasa pembentukan Malaysia, kuasa eksekutif terletak pada Parti Perikatan (kemudian Barisan Nasional) gabungan tiga parti politik berasaskan kaum, iaitu Pertubuhan Kebangsaan Melayu Bersatu (UMNO), Persatuan Cina Malaysia (MCA) dan Kongres India Malaysia (MIC).[2] UMNO telah menguasai gabungan itu sejak penubuhannya.[3] Walaupun Islam adalah agama rasmi negara, Perlembagaan Malaysia menjamin kebebasan beragama.[4]\\n']\n",
      "Extracted points: ['Budaya', 'Masakan', 'Demografi', 'Ekonomi', 'Pendidikan']\n",
      "Extracted links: ['/wiki/Fail:Nuvola_Malaysian_flag.svg', '/wiki/Malaysia', '/wiki/Budaya_Malaysia', '/wiki/Masakan_Malaysia', '/wiki/Demografi_Malaysia']\n",
      "Paragraphs and points saved to data/raw_paragraphs.txt\n",
      "Metadata saved to data/raw_metadata.json\n",
      "Processing: Kejuruteraan_komputer - https://ms.wikipedia.org/wiki/Kejuruteraan_komputer\n",
      "Title: Kejuruteraan komputer\n",
      "Extracted paragraphs: ['Kejuruteraan komputer merupakan salah satu cabang daripada ilmu kejuruteraan. Kejuruteraan komputer menggabungkan ilmu kejuruteraan elektronik dan sains komputer untuk membentuk peranti elektronik terbenam berkonsep digital. Ia berbeza dengan kejuruteraan elektronik di mana mereka hanya mencipta peranti elektronik tunggal. Empat cabang penting yang menjadi teras dalam kejuruteraan komputer ialah sistem terbenam (embedded system), pemprosesan isyarat digital (digital signal processing), sistem komputer dan sistem logik.[1]\\n', 'Pelajar yang mengambil jurusan kejuruteraan komputer akan diajar mengenai asas dalam litar elektronik berkonsep analog dan digital. Mereka juga akan diajar ilmu-ilmu dalam bidang sains komputer seperti bahasa pengaturcaraan, struktur data, merekabentuk perisian dan sistem rangkaian. Pendidikan ini penting bagi menyediakan pelajar yang berkemahiran dalam teori dan amali.[2]\\n', 'Bahasa pengaturcaraan merupakan pendidikan paling teras dalam kejuruteraan komputer. Pelajar akan didedahkan dengan beberapa bahasa pengaturcaraan yang biasa diguna sekarang seperti C++, PHP, MySQL dan juga HTML. Bahasa pengaturcaraan ini penting kerana ianya akan memberi isyarat atau arahan kepada sistem mikropemproses tentang apa yang perlu dilakukan dalam sebuah alat peranti elektronik digital.[3]\\n', 'Kebiasaannya, jurutera dalam bidang kejuruteraan komputer akan menyiapkan carta alir mengenai aturcara yang akan mereka buat. Carta alir ini mengandungi proses-proses yang akan dilakukan serta sedikit latar belakang mengenai bahasa aturcara yang akan mereka gunakan.\\n', 'Struktur data digunakan untuk menyusun data-data di dalam sistem mikropemproses secara tersusun dan teratur. Ini akan memudahkan sistem mikropemproses memproses data-data dengan cekap dan efisien. Struktur data yang baik ialah apabila sistem mikropemproses menggunakan sedikit sahaja memori untuk melaksanakan sesuatu proses yang telah diarahkan oleh bahasa pengaturcaraan.[4]\\n']\n",
      "Extracted points: ['Pembangunan produk elektronik', 'Syarikat telekomunikasi', 'Pembangun perisian komputer', '^ \"Computer Engineering\" Diarkibkan 2011-05-10 di Wayback Machine, University of Saskatchewan, dicapai pada 08 Julai 2011.\\n', '^ \"Bachelor of Computer Engineering\"[pautan mati kekal], Official Website of FKEKK, UTeM, dicapai pada 08 Julai 2011.\\n']\n",
      "Extracted links: ['/wiki/Fail:Trainer_Motorola_68000.JPG', '/wiki/Motorola', '/wiki/Kejuruteraan', '/wiki/Kejuruteraan_elektronik', '/wiki/Sains_komputer']\n",
      "Paragraphs and points saved to data/raw_paragraphs.txt\n",
      "Metadata saved to data/raw_metadata.json\n",
      "Processing: Buku - https://ms.wikipedia.org/wiki/Buku\n",
      "Title: Buku\n",
      "Extracted paragraphs: ['Buku (Jawi: \\u200fبوكو\\u200ecode: ms is deprecated \\u200e) merupakan kepingan helaian kertas bertulis (dan adakala juga bergambar atau berilustrasi) yang diikat menjadi satu unit. Dalam sains kepustakaan, buku dikenali sebagai monograf untuk membezakannya dengan terbitan bersiri yang lain seperti majalah dan akhbar. Pada lazimnya, buku hanya merujuk kepada buku yang diterbit dan bukan sebarang \"helaian kertas yang dihimpun dan diikat\".\\n', 'Seiring dengan perkembangan dalam bidang dunia informatik, kini dikenal pula teknologi buku elektronik yang boleh dibaca kandungannya pada alat tertentu seperti komputer-komputer jenis meja, riba dan tablet, telefon bimbit dan lainnya dibantu perisian khusus tertentu.\\n', 'Perkataan buku merupakan pinjaman Belanda: boekcode: nl is deprecated  [disebut buk], ia asalnya daripada akar bahasa Germanik \"*bōk-\" yang merujuk kepada spesies Fagus (bandingkan Belanda: beukcode: nl is deprecated , bahasa Inggeris: beechcode: en is deprecated )[1][2] di mana masyarakat penutur Germanik pada zaman dahulu dipercayai menghimpunkan penulisan mereka pada kulit kayu pokok jenis ini.[3]\\n', 'Terdapat juga kata kitab (serapan bahasa Arab كتاب\\u200e kitāb terbitan ism kata kerja كَتَبَ\\u200e kataba \"menulis\"[4]) yang pernah terangkum menggambarkan objek ini secara umum dahulu sebelum ketibaan pengaruh bahasa Belanda; ia dahulu merujuk hanya kepada sebuah teks atau tulisan yang dijilid menjadi satu. Biasanya benda yang digambarkan sebagai kitab merujuk kepada jenis tulisan kuno yang mempunyai ketetapan hukum, atau dengan kata lain merupakan undang-undang yang mengatur. Malah, ia turut digunakan untuk menyebut kepada karya sastera para pujangga pada masa lampau yang dapat dijadikan bukti sejarah untuk mengungkapkan suatu peristiwa masa lampau seperti halnya kitab suci. Kerajaan-kerajaan di Nusantara pada masa lampau memberi kedudukan yang penting bagi para pujangga ini untuk menceritakan kehidupan dan kekuasaan raja-raja pada waktu itu untuk diriwayatkan dengan cara ditulis. Kelaziman ungkapan istilah kitab terganti dengan kata buku serapan Belanda pada abad ke-20 yang dianggap lebih cocok bidang luar agama yang lagi banyak dan meluas pada zaman-zaman mendatang.[5]\\n', 'Kefahaman buku sebagai suatu medium menghimpunkan penulisan dikatakan mula muncul dalam sejarah umat manusia seiring dengan penggunaan papirus di tamadun Mesir pada tahun sekitar 2400 SM: helaian papirus yang diturunkan tulisan ini dikumpulkan bersama dalam bentuk digulungkan. Bahan-bahan seumpama ini dapat diperhatikan dalam banyak tamadun lain: di tanah benua India, daun-daun pelepah kelapa dikeringkan sebelum ditulis aksara dan digelapkan dengan jelaga agar mudah dilihat;[6] kaedah ini boleh didapati berusia dari seawal alaf pertama Masihi berdasarkan tinggalan seumpamanya di kawasan-kawasan sejuk kering Nepal, Tibet dan Asia Tengah,[7] malah ia juga tersebar ke rantau Asia Tenggara dari Indochina jauh selatan ke Nusantara di kepulauan Melayu mewujudkan manuskrip lontar dihasilkan daripada daun (ron) pelepah pokok tal. Alam Cina di timur benua sama pula menurunkan tulisan mereka atas bilah-bilah lidi buluh atau kayu yang diikat.\\n']\n",
      "Extracted points: ['Halaman separa judul (Half title page)', 'Halaman judul (Title page)', 'Halaman hak cipta (Inprint/Copyright page)', 'Prakata (Preface)', 'Senarai kandungan (Content)']\n",
      "Extracted links: ['/wiki/Teks_keagamaan', '/wiki/Fail:Book4543543543.jpg', '/wiki/Tulisan_Jawi', '/wiki/Kertas', '/wiki/Penulisan']\n",
      "Paragraphs and points saved to data/raw_paragraphs.txt\n",
      "Metadata saved to data/raw_metadata.json\n",
      "Processing: Ekonomi - https://ms.wikipedia.org/wiki/Ekonomi\n",
      "Title: Ekonomi\n",
      "Extracted paragraphs: ['Afrika\\xa0· Amerika Utara\\nAmerika Selatan\\xa0· Asia\\nEropah\\xa0· Oceania\\n', 'Mikroekonomi\\xa0· Makroekonomi\\nSejarah pemikiran ekonomi\\nMetodologi\\xa0· Pendekatan heterodoks\\n', 'Ekonomi matematik\\xa0· Statistik\\nKeratan rentas & Panel Data\\nPersamaan serentak \\xa0· Siri masa\\nPengiraan\\xa0· Eksperimen\\nAkaun negara\\n', 'Kelakuan\\xa0· Budaya\\xa0· Evolusi\\nTumbesaran\\xa0· Pembangunan\\xa0· Sejarah\\nAntarabangsa\\xa0· Sistem ekonomi\\nEkonomi monetari dan kewangan\\nEkonomi awam dan Kebajikan\\nKesihatan\\xa0· Pendidikan\\xa0· Kebajikan\\nPenduduk\\xa0· Buruh\\xa0· Pengurusan\\nPerniagaan\\xa0· Maklumat\\xa0· Teori permainan\\nOrganisasi perindustrian\\xa0· Undang-undangPertanian\\xa0· Sumber alamPersekitaran\\xa0· Ekologi\\nBandar\\xa0· Luar bandar\\xa0· Serantau\\xa0· Geografi\\n', 'Jurnal · Penerbitan\\nKategori · Tajuk · Ahli ekonomi\\n\\n']\n",
      "Extracted points: ['lihat', 'bincang', 'sunting', 'Apakah jenis barang dan berapa banyak barang itu dikeluarkan?', 'Bagaimanakah barang itu harus dikeluarkan?']\n",
      "Extracted links: ['/wiki/Wikipedia:Sumber_petikan', '/wiki/Wikipedia:Sumber_yang_boleh_dipercayai', '/wiki/Wikipedia:Pengesahan', 'https://ms.wikipedia.org/w/index.php?title=Ekonomi&action=edit', '/wiki/Wikipedia:Sumber_yang_boleh_dipercayai']\n",
      "Paragraphs and points saved to data/raw_paragraphs.txt\n",
      "Metadata saved to data/raw_metadata.json\n",
      "Processing: Haiwan - https://ms.wikipedia.org/wiki/Haiwan\n",
      "Title: Haiwan\n",
      "Extracted paragraphs: ['\\n', 'Haiwan (Jawi: \\u200fحيوان\\u200ecode: ms is deprecated \\u200e serapan Arab: حَيَوَان, rumi:\\xa0ḥayawāncode: ar is deprecated  terbitan kata حَيٌّcode: ar is deprecated  hayy \"hidup\"[1]), atau binatang (Jawi: \\u200fبيناتڠ\\u200ecode: ms is deprecated \\u200e) ialah sekelompok besar organisma eukariot multisel yang tergolong dalam alam Animalia atau Metazoa. Apabila berkembang, pelan badannya pada kesudahannya menjadi tetap, namun ada sesetengah spesies yang menjalankan proses metamorfosis di tengah-tengah riwayatnya. Kebanyakan haiwan  adalah motil, iaitu boleh bergerak secara spontan dan berdikari. Semua haiwan  juga merupakan heterotrof, iaitu perlu memakan organisma lain atau hasil keluarannya demi menyara hidup.\\n', 'Kebanyakan filum haiwan yang dikenali muncul dalam rekod fosil sebagai spesies marin sewaktu ledakan Kambria sekitar 542 juta tahun dahulu.\\n', 'Manusia memanfaatkan banyak spesies haiwan lain, seperti makanan (termasuk daging, susu, dan telur), untuk bahan (seperti kulit dan bulu), sebagai haiwan peliharaan, dan sebagai haiwan yang berfungsi termasuk untuk pengangkutan.\\n', 'Haiwan mempunyai beberapa ciri-ciri yang membezakannya daripada hidupan-hidupan yang lain. Haiwan adalah eukariot dan kebanyakannya multisel,[2] yakni berbeza dengan bakteria dan kebanyakan protis. Haiwan  merupakan heterotrof,[3] iaitu umumnya mencerna makanan dalam kebuk dalaman, yakni berbeza dengan tumbuhan dan alga.[4] haiwan  juga berbeza dengan tumbuhan, alga dan kulat kerana ketiadaan dinding sel yang kukuh.[5] Semua  haiwan  adalah motil,[6] walaupun pada peringkat hidup yang tertentu. Bagi kebanyakan haiwan, embrio melalui peringkat blastula,[7] iaitu ciri - ciri yang hanya terdapat pada haiwan.\\n']\n",
      "Extracted points: ['Subalam Parazoa\\nPorifera\\nPlacozoa', 'Porifera', 'Placozoa', 'Subalam Eumetazoa\\nRadiata (tanpa pangkat)\\nCtenophora\\nCnidaria\\nBilateria (tanpa pangkat)\\nOrthonectida\\nRhombozoa\\nAcoelomorpha\\nChaetognatha\\nSuperfilum Deuterostomia\\nChordata\\nHemichordata\\nEchinodermata\\nXenoturbellida\\nVetulicolia †\\nProtostomia (tanpa pangkat)\\nSuperfilum Ecdysozoa\\nKinorhyncha\\nLoricifera\\nPriapulida\\nNematoda\\nNematomorpha\\nLobopodia\\nOnychophora\\nTardigrada\\nArthropoda\\nSuperfilum Platyzoa\\nPlatyhelminthes\\nGastrotricha\\nRotifera\\nAcanthocephala\\nGnathostomulida\\nMicrognathozoa\\nCycliophora\\nSuperfilum Lophotrochozoa\\nSipuncula\\nHyolitha †\\nNemertea\\nPhoronida\\nBryozoa\\nEntoprocta\\nBrachiopoda\\nMollusca\\nAnnelida\\nEchiura', 'Radiata (tanpa pangkat)\\nCtenophora\\nCnidaria']\n",
      "Extracted links: ['/wiki/Ediakara', '/wiki/Prakambrium', '/wiki/Kambria', '/wiki/Ordovisi', '/wiki/Silures']\n",
      "Paragraphs and points saved to data/raw_paragraphs.txt\n",
      "Metadata saved to data/raw_metadata.json\n",
      "Processing: Tumbuhan - https://ms.wikipedia.org/wiki/Tumbuhan\n",
      "Title: Tumbuhan\n",
      "Extracted paragraphs: ['\\n', 'Alga hijau\\n', 'Tumbuhan darat (embriofit)\\n', '†Nematophytes\\n', 'Tumbuhan (Jawi: \\u200fتومبوهن\\u200ecode: ms is deprecated \\u200e; kata ganda: tumbuh-tumbuhan تومبوه-تومبوهن\\u200e) merupakan salah satu alam hidupan eukariot yang terdapat di alam semesta dengan nama Plantae.\\n']\n",
      "Extracted points: ['Chlorophyta', 'Charophyta', 'Tumbuhan darat tidak bervaskular (briofit)\\nMarchantiophyta—lumut hati\\nAnthocerotophyta—hornworts\\nBryophyta—lumut\\n†Horneophytopsida', 'Marchantiophyta—lumut hati', 'Anthocerotophyta—hornworts']\n",
      "Extracted links: ['/wiki/Fail:Diversity_of_plants_(Streptophyta)_version_2.png', '/wiki/Taksonomi_(biologi)', '/w/index.php?title=Eukaryote&action=edit&redlink=1', '/w/index.php?title=Archaeplastida&action=edit&redlink=1', '/wiki/Ernst_Haeckel']\n",
      "Paragraphs and points saved to data/raw_paragraphs.txt\n",
      "Metadata saved to data/raw_metadata.json\n",
      "Processing: Tatabahasa - https://ms.wikipedia.org/wiki/Tatabahasa\n",
      "Title: Tatabahasa\n",
      "Extracted paragraphs: ['Tatabahasa atau nahu (serapan Arab: النَّحْو, rumi:\\xa0an-naḥwcode: ar is deprecated ) ialah bidang ilmu yang mempelajari kaedah-kaedah yang mengatur atau menyusun (yakni tata[1]) penggunaan bahasa. Ilmu ini merupakan sebahagian daripada bidang ilmu yang mempelajari bahasa iaitu linguistik.\\n', 'Tatabahasa moden mencakupi bidang fonetik, fonologi, morfologi, sintaksis, dan semantik.\\n', 'FUNGSI SINTAKTIK DALAM ANALISIS WACANA\\n', 'Fungsi sintaktik atau sintaksis dalam analisis tatabahasa dan wacana fungsional pengesanan cara struktur ayat bukan sahaja mematuhi peraturan tatabahasa, tetapi juga membentuk makna dan konteks dalam situasi komunikatif. \\n', 'Tatabahasa fungsional sintaktik dalam konteks analisis wacana membuka peluang untuk pemahaman peranan dan fungsi elemen-elemen sintaksis dalam sesuatu teks.Tatabahasa fungsional sintaktik adalah pendekatan dalam analisis tatabahasa yang menekankan tentang fungsi dan peranan setiap sintaksis dalam sesuatu bahasa.\\n']\n",
      "Extracted points: ['Golongan kata', 'Bentuk kata', 'Pembentukan kata', 'Kata nama', 'Kata kerja']\n",
      "Extracted links: ['/wiki/Tatabahasa_bahasa_Melayu', '/wiki/Golongan_kata_(bahasa_Melayu)', '/wiki/Bentuk_kata', '/wiki/Pembentukan_kata', '/wiki/Kata_nama']\n",
      "Paragraphs and points saved to data/raw_paragraphs.txt\n",
      "Metadata saved to data/raw_metadata.json\n",
      "Processing: Geografi_Asia - https://ms.wikipedia.org/wiki/Geografi_Asia\n",
      "Title: Geografi Asia\n",
      "Extracted paragraphs: ['Geografi Asia mengkaji konsep geografi untuk mengklasifikasikan Asia, bahagian tengah dan timur Eurasia yang terdiri daripada kira-kira lima puluh negara.\\n', 'Daratan Asia bukanlah satu koleksi daratan bagi setiap wilayahnya yang telah ditakrifkan secara bebas daripada keseluruhannya. Sebagai contoh, sempadan Asia Tengah dan Timur Tengah bergantung kepada siapa yang menentukannya dan untuk tujuan apa. Takrifan yang berbeza-beza ini secara amnya tidak dicerminkan dalam peta Asia secara keseluruhan; sebagai contoh, Mesir biasanya termasuk di Timur Tengah, tetapi tidak di Asia, walaupun Timur Tengah adalah pembahagian Asia.\\n', 'Sempadan antara Asia dan Afrika ialah genting Suez dan Laut Merah . Sempadan dengan Eropah bermula dengan pantai timur Mediterranean, walaupun Turki di Timur Dekat menjangkau sebahagiannya ke Kepulauan Aegean dan termasuk Istanbul di sebelah Eropah di Bosphorus . Di utara sempadan antara benua Asia dan Eropah lazimnya dianggap mengalir melalui Dardanelles, Laut Marmara, Bosporus, Laut Hitam, Pergunungan Caucasus, Laut Caspian, Sungai Ural ke sumbernya, dan sempadan panjang secara amnya mengikut bahagian timur Pergunungan Ural ke Laut Kara, Rusia . Lautan Artik adalah sempadan utara. Selat Bering membahagikan Asia dengan Amerika Utara.\\n', 'Di tenggara Asia terdapat Semenanjung Tanah Melayu (batas tanah besar Asia) dan Indonesia (\"Kepulauan India\", bekas Hindia Timur), sebuah negara yang luas di antara ribuan pulau di Pentas Sunda, besar dan kecil, berpenghuni dan tidak berpenghuni. Australia berdekatan adalah benua yang berbeza. Pulau-pulau Pasifik di timur laut Australia yang lebih jauh dari Jepun dan Korea adalah Oceania dan bukannya Asia. Dari Indonesia sempadan mengariskan di sepanjang Lautan Hindi ke Laut Merah. Kebanyakan pulau di Lautan Hindi adalah Asia.\\n', \"Pelbagai sumber memberikan anggaran yang berbeza tentang kawasan yang dikelilingi oleh sempadan khayalan Asia. New York Times Atlas of the World memberikan 43,608,000\\xa0km2 (16,837,000\\xa0bt2).[1] Chambers World Gazetteer 44,000,000\\xa0km2 (17,000,000\\xa0bt2) kepada 44,000,000,[2] manakala Concise Columbia Encyclopedia memberikan 44,390,000\\xa0km2 (17,140,000\\xa0bt2).[3] Pearson's 2011 mempunyai 44,030,000\\xa0km2 (17,000,000\\xa0bt2).[4] Kaedah-kaedah untuk mendapatkan angka-angka ini dan kawasan apa yang mereka masukkan belum didedahkan.\\n\"]\n",
      "Extracted points: ['\\n\\nPeta Caucasus\\n', '\\n\\nPeta Asia Tengah\\n', '\\n\\nPeta Asia Timur\\n', '\\n\\nPeta Timur Tengah\\n', '\\n\\nPeta Asia Selatan\\n']\n",
      "Extracted links: ['/wiki/Fail:1730_C._Homann_Map_of_Asia_-_Geographicus_-_Asiae-homann-1730.jpg', '/wiki/Fail:Asia_satellite_orthographic.jpg', '/wiki/Fail:Modern_Asia_(1796).tif', '/wiki/Asia', '/wiki/Eurasia']\n",
      "Paragraphs and points saved to data/raw_paragraphs.txt\n",
      "Metadata saved to data/raw_metadata.json\n",
      "Processing: Undang-undang - https://ms.wikipedia.org/wiki/Undang-undang\n",
      "Title: Undang-undang\n",
      "Extracted paragraphs: ['Undang-undang (Jawi: \\u200fاوندڠ٢\\u200ecode: ms is deprecated \\u200e, bahasa Inggeris: lawcode: en is deprecated ) dalam politik dan perundangan, merupakan satu sistem peraturan atau norma yang cuba diikuti oleh ahli-ahli masyarakat. Biasanya ini adalah peraturan sesuatu negara. Jika peraturan-peraturan ini dilanggar, orang yang melanggar peraturan tersebut mungkin dihukum atau didenda oleh mahkamah. Peraturan ini biasanya dibuat oleh pemerintah negara tersebut supaya rakyatnya boleh hidup, bekerja dan bersosial antara satu sama lain. Kadangkala, undang-undang juga dibuat oleh sekumpulan orang yang berfikiran sama.\\n', 'Undang-undang secara lazimnya ditadbir oleh suatu sistem mahkamah dimana hakim (kadangkala dengan bantuan juri atau lay magistrate) mendengar pertikaian diantara pihak, dan mengaplikasi satu set peraturan untuk memastikan satu keputusan yang adil. Cara dimana undang-undang ditadbir dipanggil sistem perundangan, yang lazimnya berkembang mengikut adat-adat sendiri sesebuah negara.\\n', 'Kebanyakan negara mengharapkan polis untuk menguatkuasakan undang-undang. Pegawai polis lazimnya harus terlatih dalam penguatkuasaan undang-undang sebelum mereka dibenarkan melakukan sesuatu dibawah warna undang-undang, untuk mengeluarkan amaran berbentuk undang-undang dan petikan, untuk mengarahkan satu pencarian atau apa-apa lagi waran membuat penangkapan.\\n', 'Pengamal undang-undang lazimnya mesti mendapat latihan secara professional dalam undang-undang sebelum mereka dibenarkan mewakili satu pihak dalam satu mahkamah undang-undang, merangka dokumen undang-undang, atau memberi bantuan guaman.\\n', 'Di kebanyakan negara di dunia, undang-undang yang tertinggi ialah dalam bentuk Akta Parlimen. Di peringkat kerajaan negeri dan tempatan pula terdapat undang-undang seperti undang-undang negeri dan undang-undang kecil. Di bawahnya pula ialah satu sumber undang-undang yang dikenali sebagai \"Common Law\" yang berasal dari United Kingdom dan lazimnya digunakan di negara-negara Komanwel. Selain itu, di negara-negara Islam terdapat pula undang-undang syariah berdasarkan Al-Quran dan hadis. Sumber undang-undang yang lain termasuklah adat istiadat dan agama.\\n']\n",
      "Extracted points: ['Portal Undang-undang ', 'Undang-undang sivil', 'Undang-undang jenayah', 'Senarai 613 undang-undang Bible (Mitzvah)', 'Undang-undang Al-Quran dan Hadis']\n",
      "Extracted links: ['/wiki/Perundangan', '/wiki/Wikipedia:Memetik_sumber', '/wiki/Wikipedia:Memetik_sumber#Petikan_dalam_baris', '/wiki/Wikipedia:Pengesahan', 'https://en.wikipedia.org/wiki/Help:Maintenance_template_removal']\n",
      "Paragraphs and points saved to data/raw_paragraphs.txt\n",
      "Metadata saved to data/raw_metadata.json\n",
      "Processing: Sains_komputer - https://ms.wikipedia.org/wiki/Sains_komputer\n",
      "Title: Sains komputer\n",
      "Extracted paragraphs: ['Sains komputer (computer science) secara umumnya adalah pengkajian perhitungan (computation) dan pemprosesan maklumat, sama ada dari segi perkakasan mahupun perisian.Seseorang yang pakar dalam bidang perkomputeran dipanggil Saintis Komputer. Ini adalah kerana sains komputer merupakan salah satu cabang daripada aliran sains. Skop sains komputer masih tidak dapat dipisahkan dengan jelas memandangkan bidang ini meliputi aspek yang amat luas dalam kehidupan manusia dan skopnya akan terus berkembang selari dengan perkembangan kemajuan teknologi. Sebagai contoh, pada suatu masa dahulu telefon bimbit lebih dikaitkan dengan bidang kejuruteraan, akan tetapi apabila teknologi telefon bimbit semakin berkembang, terdapat banyak teknologi daripada aliran sains komputer diserapkan ke dalam alatan ini. Kemajuan robotik semakin menyerapkan elemen-elemen sains komputer seperti kepintaran buatan untuk menjadikan sesebuah robot lebih bijak.Bidang ini mendapat penawaran meluas di dalam universiti dalam dan luar negara memandangkan ia merupakan bidang yang menarik perhatian serta tempat yang meluas dalam industri. Antara perkara penting dalam sains komputer adalah  Bahasa Pengaturcaraan. Bahasa pengaturcaraan adalah bahasa yang boleh digunakan untuk menulis perisian komputer. Antara bahasa pengaturcaraan yang popular ialah  C, C++ dan Java.\\n', '\\n', '5 Kerjaya Pilihan Dalam Bidang Sains Komputer[1]\\xa0:\\n', '1. Pengaturcara\\n', 'Jawatan pengaturcara terdiri dari beberapa istilah contohnya Software Developer, Java Developer, .Net Expertise, Web Developer, Multimedia Programmer, Software Engineer (Electronic) dan sebagainya. Bakal pemohon jawatan tersebut perlulah mempunyai kemahiran satu atau dua bahasa aturcara. Anda tidak perlu mahir semua bahasa aturcara dan pemikiran logik serta algoritma perlu tinggi untuk melepasi kelayakan dalam temuduga terutamanya syarikat swasta dan multinasional.\\n']\n",
      "Extracted points: ['1833: Charles Babbage (1792-1871) meninggalkan projek Enjin Pembezaaan pertama, iaitu kalkulator mekanikal. Kerajaan British kerugian, 17,470 pound, cukup untuk membeli dua kapal perang masa tersebut.', '1839: Babbage bersara dari Cambridge untuk berkerja sepenuh masa merekacipta Enjin Analitik Babbage, iaitu sebuah mesin yang berkuasa-stim, kegunaan-umum dan berjenis komputer mekanikal. Ini merupakan komputer pertama sebenar yang berjaya direka tapi tidak pernah dibangunkan.', '1918: Jurutera Jerman Arthur Scherbius mempatent mesin chiper Enigma, 30,000 yang mana akhirnya dijual kepada tentera Jerman.', '1934: Ahli matematik Polish, Marian Rejewski membangunkan \"bombe\", iaitu sebuah mesin mekanikal untuk membantu memecahkan code Enigma.', '1937: Ahli matematik English, Alan Turing (1911-1954) menerbitkan kertas kerja \"On Computable Numbers\" untuk memperlihatkan, yang tidak semua soalan-soalan matematik boleh diselesaikan. Kertas tersebut memperkenalkan idea yang akhirnya dipanggil Mesin Universal Turing.']\n",
      "Extracted links: ['/wiki/Perkakasan_komputer', '/wiki/Perisian', '/wiki/Bahasa_pengaturcaraan', '/wiki/Perisian', '/wiki/Bahasa_pengaturcaraan_C']\n",
      "Paragraphs and points saved to data/raw_paragraphs.txt\n",
      "Metadata saved to data/raw_metadata.json\n",
      "Processing: Peribahasa - https://ms.wikipedia.org/wiki/Peribahasa\n",
      "Title: Peribahasa\n",
      "Extracted paragraphs: ['Peribahasa adalah suatu susunan kata dalam bentuk kiasan dan berlapik yang mempunyai pengertian tersirat.[1] Susunan kata-kata kiasan ini tercipta berdasarkan pengalaman kehidupan seharian oleh masyarakat. Peribahasa menjadi suatu bentuk luahan sindiran dan pengajaran yang digunakan oleh nenek moyang secara kiasan yang diwarisi generasi demi generasi sejak berzaman.\\n']\n",
      "Extracted points: ['Peribahasa bermula dengan huruf \"A\"', 'Peribahasa bermula dengan huruf \"B\"', 'Peribahasa bermula dengan huruf \"C\" dan \"D\"', 'Peribahasa bermula dengan huruf  \"E\" hingga \"J\"', 'Peribahasa bermula dengan huruf  \"K\"']\n",
      "Extracted links: ['/wiki/Kiasan', '#cite_note-Zaid-1', '/w/index.php?title=Peribahasa&veaction=edit&section=1', '/w/index.php?title=Peribahasa&action=edit&section=1', '/wiki/Peribahasa_bermula_dengan_huruf_%22A%22']\n",
      "Paragraphs and points saved to data/raw_paragraphs.txt\n",
      "Metadata saved to data/raw_metadata.json\n"
     ]
    }
   ],
   "source": [
    "from data_class.Jesmine_GanKhaiLi_WikipediaPage import Wikipedia\n",
    "\n",
    "#List of article titles\n",
    "articles = [\"Keluarga\", \n",
    "            \"Kebudayaan_Malaysia\", \n",
    "            \"Kejuruteraan_komputer\",\n",
    "            \"Buku\",\n",
    "            \"Ekonomi\",\n",
    "            \"Haiwan\",\n",
    "            \"Tumbuhan\",\n",
    "            \"Tatabahasa\",\n",
    "            \"Geografi_Asia\",\n",
    "            \"Undang-undang\",\n",
    "            \"Sains_komputer\",\n",
    "            \"Peribahasa\"\n",
    "           ]\n",
    "\n",
    "#Base URL for Wikipedia\n",
    "base_url = \"https://ms.wikipedia.org/wiki/\"\n",
    "\n",
    "for title in articles:\n",
    "    full_url = f\"{base_url}{title}\" \n",
    "    print(f\"Processing: {title} - {full_url}\")\n",
    "    \n",
    "    #Initialize the Wikipedia object for each article\n",
    "    wiki_page = Wikipedia(full_url, max_depth=1)\n",
    "    \n",
    "    #Perform the crawling and extraction\n",
    "    wiki_page.crawl_links()\n",
    "    \n",
    "    #Save the extracted data for each article\n",
    "    wiki_page.save_paragraphs_to_text(\"data/raw_paragraphs.txt\")\n",
    "    wiki_page.save_metadata_to_json(\"data/raw_metadata.json\")\n"
   ]
  },
  {
   "cell_type": "markdown",
   "id": "67063579-6816-4713-bd32-e3a6064ccf7f",
   "metadata": {},
   "source": [
    "# Kit Chin Jie Ying"
   ]
  },
  {
   "cell_type": "markdown",
   "id": "9ee955c0-f009-4c5c-862c-f1fc2a590a37",
   "metadata": {},
   "source": [
    "Web Scraping"
   ]
  },
  {
   "cell_type": "code",
   "execution_count": 3,
   "id": "7004fcac-83fb-4e54-aa04-8ca4eb15662d",
   "metadata": {},
   "outputs": [
    {
     "name": "stdout",
     "output_type": "stream",
     "text": [
      "Scraping: https://www.bernama.com/bm/tintaminda/news.php?id=1947937\n",
      "Paragraphs and points saved to data/raw_paragraphs.txt\n",
      "Scraping: https://www.bernama.com/bm/tintaminda/news.php?id=2222500#abc\n",
      "Paragraphs and points saved to data/raw_paragraphs.txt\n",
      "Scraping: https://www.bernama.com/bm/dunia/news.php?id=2374489\n",
      "Paragraphs and points saved to data/raw_paragraphs.txt\n",
      "Scraping: https://www.bernama.com/bm/pasaran/news.php?id=2374390\n",
      "Paragraphs and points saved to data/raw_paragraphs.txt\n",
      "Scraping: https://www.bernama.com/bm/sukan/news.php?id=2374170\n",
      "Paragraphs and points saved to data/raw_paragraphs.txt\n",
      "Scraping: https://www.bernama.com/bm/sukan/news.php?id=2374048\n",
      "Paragraphs and points saved to data/raw_paragraphs.txt\n",
      "Scraping: https://www.bernama.com/bm/sukan/news.php?id=2374023\n",
      "Paragraphs and points saved to data/raw_paragraphs.txt\n",
      "Scraping: https://www.ipendidikan.my/cara-mengamalkan-gaya-hidup-sihat.html\n",
      "Paragraphs and points saved to data/raw_paragraphs.txt\n",
      "Scraping: https://www.ipendidikan.my/mempopularkan-permainan-tradisional.html\n",
      "Paragraphs and points saved to data/raw_paragraphs.txt\n",
      "Scraping: https://www.ipendidikan.my/novel-pantai-kasih.html\n",
      "Paragraphs and points saved to data/raw_paragraphs.txt\n",
      "Scraping: https://www.ipendidikan.my/langkah-mengatasi-vandalisme.html\n",
      "Paragraphs and points saved to data/raw_paragraphs.txt\n",
      "Scraping: https://www.ipendidikan.my/bekerja-sambilan.html\n",
      "Paragraphs and points saved to data/raw_paragraphs.txt\n",
      "Scraping: https://www.ipendidikan.my/menderma-darah.html\n",
      "Paragraphs and points saved to data/raw_paragraphs.txt\n",
      "Scraping: https://www.ipendidikan.my/peranan-anak-membahagiakan-ibu-bapa.html\n",
      "Paragraphs and points saved to data/raw_paragraphs.txt\n",
      "Scraping: https://www.ipendidikan.my/faedah-menguasai-teknologi-maklumat.html\n",
      "Paragraphs and points saved to data/raw_paragraphs.txt\n"
     ]
    }
   ],
   "source": [
    "from data_class.JieYing_WebScraping import WebPage\n",
    "\n",
    "urls = [\n",
    "    \"https://www.bernama.com/bm/tintaminda/news.php?id=1947937\",\n",
    "    \"https://www.bernama.com/bm/tintaminda/news.php?id=2222500#abc\",\n",
    "    \"https://www.bernama.com/bm/dunia/news.php?id=2374489\",\n",
    "    \"https://www.bernama.com/bm/pasaran/news.php?id=2374390\",\n",
    "    \"https://www.bernama.com/bm/sukan/news.php?id=2374170\",\n",
    "    \"https://www.bernama.com/bm/sukan/news.php?id=2374048\",\n",
    "    \"https://www.bernama.com/bm/sukan/news.php?id=2374023\",\n",
    "    \"https://www.ipendidikan.my/cara-mengamalkan-gaya-hidup-sihat.html\",\n",
    "    \"https://www.ipendidikan.my/mempopularkan-permainan-tradisional.html\",\n",
    "    \"https://www.ipendidikan.my/novel-pantai-kasih.html\",\n",
    "    \"https://www.ipendidikan.my/langkah-mengatasi-vandalisme.html\",\n",
    "    \"https://www.ipendidikan.my/bekerja-sambilan.html\",\n",
    "    \"https://www.ipendidikan.my/menderma-darah.html\",\n",
    "    \"https://www.ipendidikan.my/peranan-anak-membahagiakan-ibu-bapa.html\",\n",
    "    \"https://www.ipendidikan.my/faedah-menguasai-teknologi-maklumat.html\"\n",
    "]\n",
    "\n",
    "for url in urls:\n",
    "    print(f\"Scraping: {url}\")\n",
    "    webpage = WebPage(url) \n",
    "    webpage.scrapingWebPage() \n",
    "    webpage.save_paragraphs_to_text(\"data/raw_paragraphs.txt\")  "
   ]
  },
  {
   "cell_type": "code",
   "execution_count": 4,
   "id": "773ec2f1-714b-4c43-83dc-f52496f6a76e",
   "metadata": {},
   "outputs": [],
   "source": [
    "spark.stop()"
   ]
  },
  {
   "cell_type": "code",
   "execution_count": null,
   "id": "0f898c97-9119-4803-beff-e0c823bafcd2",
   "metadata": {},
   "outputs": [],
   "source": []
  }
 ],
 "metadata": {
  "kernelspec": {
   "display_name": "de-venv",
   "language": "python",
   "name": "de-venv"
  },
  "language_info": {
   "codemirror_mode": {
    "name": "ipython",
    "version": 3
   },
   "file_extension": ".py",
   "mimetype": "text/x-python",
   "name": "python",
   "nbconvert_exporter": "python",
   "pygments_lexer": "ipython3",
   "version": "3.10.12"
  }
 },
 "nbformat": 4,
 "nbformat_minor": 5
}
