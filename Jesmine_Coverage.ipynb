{
 "cells": [
  {
   "cell_type": "markdown",
   "id": "0d540508-bf94-457f-b80a-d9ddd1eff46b",
   "metadata": {},
   "source": [
    "# Individual Part - Coverage"
   ]
  },
  {
   "cell_type": "markdown",
   "id": "0bcf7c35-4085-4c9f-aa22-48c6cc9ae154",
   "metadata": {},
   "source": [
    "In this part, i will perform the lexicon's coverage of a target's vocabulary."
   ]
  },
  {
   "cell_type": "code",
   "execution_count": 1,
   "id": "dba17fa2-c41e-4115-938c-1ddadf40815e",
   "metadata": {},
   "outputs": [
    {
     "name": "stderr",
     "output_type": "stream",
     "text": [
      "24/12/21 18:18:01 WARN Utils: Your hostname, MSI. resolves to a loopback address: 127.0.1.1; using 10.255.255.254 instead (on interface lo)\n",
      "24/12/21 18:18:01 WARN Utils: Set SPARK_LOCAL_IP if you need to bind to another address\n",
      "Setting default log level to \"WARN\".\n",
      "To adjust logging level use sc.setLogLevel(newLevel). For SparkR, use setLogLevel(newLevel).\n",
      "24/12/21 18:18:01 WARN NativeCodeLoader: Unable to load native-hadoop library for your platform... using builtin-java classes where applicable\n",
      "24/12/21 18:18:02 WARN Utils: Service 'SparkUI' could not bind on port 4040. Attempting port 4041.\n",
      "24/12/21 18:18:02 WARN Utils: Service 'SparkUI' could not bind on port 4041. Attempting port 4042.\n"
     ]
    }
   ],
   "source": [
    "from pyspark.sql import SparkSession\n",
    "from bs4 import BeautifulSoup\n",
    "from pyspark.sql.functions import udf, when, lower, col, count\n",
    "from pyspark.sql.types import StructType, StructField, StringType\n",
    "from data_class.Jesmine_Coverage import CoverageFunction\n",
    "import matplotlib.pyplot as plt\n",
    "import requests\n",
    "\n",
    "# Initialize Spark session\n",
    "spark = SparkSession.builder \\\n",
    "    .appName(\"Lexicon Coverage Analysis\") \\\n",
    "    .getOrCreate()"
   ]
  },
  {
   "cell_type": "markdown",
   "id": "ef45345a-e8c1-418c-9757-9409be7b000e",
   "metadata": {},
   "source": [
    "# Web Scraping for Article"
   ]
  },
  {
   "cell_type": "code",
   "execution_count": 2,
   "id": "a5277556-531b-48a1-8799-814d7a4901b5",
   "metadata": {},
   "outputs": [
    {
     "name": "stdout",
     "output_type": "stream",
     "text": [
      "Successfully retrieved 1298 words:\n",
      "['Cara', 'Mengamalkan', 'Gaya', 'Hidup', 'Sihat', 'Contoh', 'Karangan', 'Menu', 'Result', 'BPKP']\n"
     ]
    }
   ],
   "source": [
    "url = \"https://www.ipendidikan.my/cara-mengamalkan-gaya-hidup-sihat.html\"\n",
    "\n",
    "articles = CoverageFunction.scrapingWebPage(url)\n",
    "words = CoverageFunction.scrapingWord(url)\n",
    "\n",
    "if words:\n",
    "    print(f\"Successfully retrieved {len(words)} words:\")\n",
    "    print(words[:10]) \n",
    "else:\n",
    "    print(\"No words retrieved.\")"
   ]
  },
  {
   "cell_type": "code",
   "execution_count": 3,
   "id": "be89a841-04b5-4ba1-b7af-9ac80773e0cc",
   "metadata": {},
   "outputs": [
    {
     "name": "stderr",
     "output_type": "stream",
     "text": [
      "                                                                                \r"
     ]
    },
    {
     "name": "stdout",
     "output_type": "stream",
     "text": [
      "+-----------+\n",
      "|       Kata|\n",
      "+-----------+\n",
      "|       Cara|\n",
      "|Mengamalkan|\n",
      "|       Gaya|\n",
      "|      Hidup|\n",
      "|      Sihat|\n",
      "|     Contoh|\n",
      "|   Karangan|\n",
      "|       Menu|\n",
      "|     Result|\n",
      "|       BPKP|\n",
      "+-----------+\n",
      "only showing top 10 rows\n",
      "\n"
     ]
    }
   ],
   "source": [
    "#Wrap each of the word to match the schema\n",
    "words_wrapped = [(word,) for word in words]\n",
    "\n",
    "#Define the schema of the dataframes\n",
    "schema = StructType([\n",
    "    StructField(\"Kata\", StringType(), True)\n",
    "])\n",
    "\n",
    "#Create the DataFrame\n",
    "df = spark.createDataFrame(words_wrapped, schema=schema)\n",
    "\n",
    "df.show(10)"
   ]
  },
  {
   "cell_type": "code",
   "execution_count": 4,
   "id": "45f8a804-87f4-4474-aa86-2800a2461fa5",
   "metadata": {},
   "outputs": [
    {
     "name": "stdout",
     "output_type": "stream",
     "text": [
      "+-----------+\n",
      "|       Kata|\n",
      "+-----------+\n",
      "|       cara|\n",
      "|mengamalkan|\n",
      "|       gaya|\n",
      "|      hidup|\n",
      "|      sihat|\n",
      "|     contoh|\n",
      "|   karangan|\n",
      "|       menu|\n",
      "|     result|\n",
      "|       bpkp|\n",
      "+-----------+\n",
      "only showing top 10 rows\n",
      "\n"
     ]
    }
   ],
   "source": [
    "#Convert into lowercase \n",
    "df = df.withColumn(\"Kata\", lower(df[\"Kata\"]))\n",
    "df.show(10)"
   ]
  },
  {
   "cell_type": "markdown",
   "id": "24a23000-e998-4c36-a546-9383706e4e7a",
   "metadata": {},
   "source": [
    "# Load the Lexicon and compare the words in lexicon to determine the coverage"
   ]
  },
  {
   "cell_type": "code",
   "execution_count": 5,
   "id": "94b0a94e-3464-443d-b7a5-bc78c5c71741",
   "metadata": {},
   "outputs": [
    {
     "name": "stderr",
     "output_type": "stream",
     "text": [
      "                                                                                \r"
     ]
    },
    {
     "name": "stdout",
     "output_type": "stream",
     "text": [
      "+---------+-------------------+---------+\n",
      "|     Kata|Coverage_in_Lexicon|Frequency|\n",
      "+---------+-------------------+---------+\n",
      "| facebook|              false|        2|\n",
      "|  jantung|               true|        3|\n",
      "| daripada|              false|       12|\n",
      "| telegram|              false|        2|\n",
      "|    hidup|               true|       19|\n",
      "|     bpkp|              false|        1|\n",
      "|    tahun|               true|        1|\n",
      "|    share|              false|        2|\n",
      "| tertanya|              false|        1|\n",
      "|    dalam|               true|       13|\n",
      "|   rakyat|               true|        2|\n",
      "|pinterest|              false|        2|\n",
      "|  masalah|               true|        7|\n",
      "|     menu|              false|        1|\n",
      "|      kes|              false|        2|\n",
      "|   berita|               true|        1|\n",
      "|  seperti|              false|       10|\n",
      "| linkedin|              false|        2|\n",
      "|     yang|               true|       47|\n",
      "|    untuk|               true|       17|\n",
      "+---------+-------------------+---------+\n",
      "only showing top 20 rows\n",
      "\n"
     ]
    }
   ],
   "source": [
    "#Load the lexicon CSV file\n",
    "lexicon_df = spark.read.csv(\n",
    "    \"lexicon.csv\", \n",
    "    header=True,         \n",
    "    inferSchema=True,   \n",
    "    multiLine=True,     \n",
    "    sep=\",\",\n",
    "    quote='\"',          \n",
    "    escape='\"'           \n",
    ")\n",
    "\n",
    "#Extract the lexicon words into a list\n",
    "lexicon = [row[\"Kata\"] for row in lexicon_df.select(\"Kata\").collect()]\n",
    "\n",
    "#Check if the word is in the lexicon\n",
    "coverage_df = df.withColumn(\n",
    "    \"Coverage_in_Lexicon\", col(\"Kata\").isin(lexicon)\n",
    ")\n",
    "\n",
    "#Group by word to calculate frequency and lexicon status\n",
    "word_freq_df = coverage_df.groupBy(\"Kata\", \"Coverage_in_Lexicon\").agg(\n",
    "    count(\"Kata\").alias(\"Frequency\")\n",
    ")\n",
    "\n",
    "word_freq_data = word_freq_df.collect()\n",
    "word_freq_df.show()"
   ]
  },
  {
   "cell_type": "code",
   "execution_count": 6,
   "id": "4455cf82-1210-4392-8f18-7552d05cbdaa",
   "metadata": {},
   "outputs": [
    {
     "name": "stdout",
     "output_type": "stream",
     "text": [
      "+---------+-------------------+---------+\n",
      "|     Kata|Coverage_in_Lexicon|Frequency|\n",
      "+---------+-------------------+---------+\n",
      "|     yang|               true|       47|\n",
      "|      dan|               true|       31|\n",
      "|     kita|               true|       21|\n",
      "|     diri|               true|       20|\n",
      "|    hidup|               true|       19|\n",
      "|kesihatan|               true|       17|\n",
      "|    untuk|               true|       17|\n",
      "|     cara|               true|       17|\n",
      "|      ini|               true|       17|\n",
      "|     gaya|               true|       15|\n",
      "| aktiviti|               true|       15|\n",
      "|     atau|               true|       14|\n",
      "|  makanan|               true|       14|\n",
      "|   dengan|               true|       13|\n",
      "|    dalam|               true|       13|\n",
      "|   kepada|               true|       11|\n",
      "|    serta|               true|       11|\n",
      "|  tekanan|               true|       11|\n",
      "|   adalah|               true|       11|\n",
      "|   contoh|               true|        9|\n",
      "+---------+-------------------+---------+\n",
      "only showing top 20 rows\n",
      "\n"
     ]
    }
   ],
   "source": [
    "#Create a table for words that exists in lexicon\n",
    "true_df = word_freq_df.filter(col(\"Coverage_in_Lexicon\") == \"true\").orderBy(col(\"Frequency\").desc())\n",
    "true_df.show()"
   ]
  },
  {
   "cell_type": "code",
   "execution_count": 7,
   "id": "2c7ee348-0eb9-40a6-ac54-d2baf89c5a4b",
   "metadata": {},
   "outputs": [
    {
     "name": "stdout",
     "output_type": "stream",
     "text": [
      "+------------+-------------------+---------+\n",
      "|        Kata|Coverage_in_Lexicon|Frequency|\n",
      "+------------+-------------------+---------+\n",
      "|       sihat|              false|       25|\n",
      "| mengamalkan|              false|       13|\n",
      "|    daripada|              false|       12|\n",
      "|       boleh|              false|       11|\n",
      "|        juga|              false|       11|\n",
      "|     seperti|              false|       10|\n",
      "|        oleh|              false|        7|\n",
      "|     menjaga|              false|        7|\n",
      "|    malaysia|              false|        6|\n",
      "|    tersebut|              false|        6|\n",
      "|   melakukan|              false|        6|\n",
      "| menjejaskan|              false|        6|\n",
      "|     sebagai|              false|        5|\n",
      "| pemeriksaan|              false|        5|\n",
      "|      secara|              false|        5|\n",
      "|persekitaran|              false|        4|\n",
      "|     perkara|              false|        4|\n",
      "| berdasarkan|              false|        4|\n",
      "| membolehkan|              false|        4|\n",
      "|   seseorang|              false|        4|\n",
      "+------------+-------------------+---------+\n",
      "only showing top 20 rows\n",
      "\n"
     ]
    }
   ],
   "source": [
    "#Create a table for words that does not exist in lexicon\n",
    "false_df = word_freq_df.filter(col(\"Coverage_in_Lexicon\") == \"false\").orderBy(col(\"Frequency\").desc())\n",
    "false_df.show()"
   ]
  },
  {
   "cell_type": "markdown",
   "id": "d88ee850-6686-47a6-a44c-cfb78f91faca",
   "metadata": {},
   "source": [
    "# Display the Article"
   ]
  },
  {
   "cell_type": "code",
   "execution_count": 8,
   "id": "b38dd1d9-f762-41ab-8cc3-e6c0682d8e81",
   "metadata": {},
   "outputs": [
    {
     "name": "stdout",
     "output_type": "stream",
     "text": [
      "Highlighted Article:\n",
      "\u001b[92mCara\u001b[0m \u001b[91mMengamalkan\u001b[0m \u001b[92mGaya\u001b[0m \u001b[92mHidup\u001b[0m \u001b[91mSihat\u001b[0m (Contoh Karangan) \u001b[91mMenu\u001b[0m \u001b[91mResult\u001b[0m \u001b[91mBPKP\u001b[0m \u001b[92mContoh\u001b[0m \u001b[92mKarangan\u001b[0m \u001b[92mKarangan\u001b[0m \u001b[92mCara\u001b[0m \u001b[91mMengamalkan\u001b[0m \u001b[92mGaya\u001b[0m \u001b[92mHidup\u001b[0m \u001b[91mSihat\u001b[0m \u001b[91mShare\u001b[0m \u001b[91mFacebook\u001b[0m \u001b[91mTwitter\u001b[0m \u001b[91mLinkedIn\u001b[0m \u001b[91mPinterest\u001b[0m \u001b[91mWhatsApp\u001b[0m \u001b[91mTelegram\u001b[0m \u001b[92mcontoh\u001b[0m \u001b[92mkarangan\u001b[0m \u001b[91mmengamalkan\u001b[0m \u001b[92mgaya\u001b[0m \u001b[92mhidup\u001b[0m \u001b[91msihat\u001b[0m \u001b[91mIpendidikan\u001b[0m » \u001b[92mKarangan\u001b[0m » \u001b[92mCara\u001b[0m \u001b[91mMengamalkan\u001b[0m \u001b[92mGaya\u001b[0m \u001b[92mHidup\u001b[0m \u001b[91mSihat\u001b[0m \u001b[92mDalam\u001b[0m \u001b[92mera\u001b[0m \u001b[91mmodenisasi\u001b[0m ini, \u001b[91mpastinya\u001b[0m \u001b[92mramai\u001b[0m tertanya-tanya \u001b[92mapakah\u001b[0m \u001b[92mcara\u001b[0m \u001b[91mmengamalkan\u001b[0m \u001b[92mgaya\u001b[0m \u001b[92mhidup\u001b[0m sihat. \u001b[92mHal\u001b[0m \u001b[92mini\u001b[0m kerana, \u001b[92mkita\u001b[0m \u001b[92msering\u001b[0m \u001b[91mdikejutkan\u001b[0m \u001b[92mdengan\u001b[0m \u001b[92mberita\u001b[0m \u001b[92myang\u001b[0m \u001b[92mtidak\u001b[0m \u001b[92mberapa\u001b[0m \u001b[92msedap\u001b[0m \u001b[92muntuk\u001b[0m \u001b[91mdidengari\u001b[0m \u001b[92mberkenaan\u001b[0m \u001b[92mmasalah\u001b[0m \u001b[92mkesihatan\u001b[0m \u001b[92mrakyat\u001b[0m \u001b[91mMalaysia\u001b[0m . \u001b[91mSebagai\u001b[0m contoh, \u001b[91mmeningkatnya\u001b[0m kes-kes \u001b[92mpenyakit\u001b[0m \u001b[92mkritikal\u001b[0m \u001b[91mseperti\u001b[0m \u001b[92msakit\u001b[0m jantung, kanser, \u001b[91mdiabetes\u001b[0m \u001b[92mdan\u001b[0m lain-lain \u001b[92mpenyakit\u001b[0m \u001b[92myang\u001b[0m berkaitan. \u001b[91mMalaysia\u001b[0m \u001b[92mkini\u001b[0m \u001b[91mdikatakan\u001b[0m \u001b[91mmempunyai\u001b[0m \u001b[92mmasalah\u001b[0m \u001b[92mobesiti\u001b[0m \u001b[92myang\u001b[0m serius. \u001b[92mEmpat\u001b[0m \u001b[91mdaripada\u001b[0m \u001b[92msepuluh\u001b[0m \u001b[92morang\u001b[0m \u001b[91mdewasa\u001b[0m \u001b[92myang\u001b[0m \u001b[91mmelebihi\u001b[0m \u001b[92musia\u001b[0m 18 \u001b[92mtahun\u001b[0m \u001b[92mdi\u001b[0m \u001b[92mnegara\u001b[0m \u001b[92mini\u001b[0m \u001b[92msama\u001b[0m \u001b[92mada\u001b[0m \u001b[91mmengalami\u001b[0m \u001b[92mberat\u001b[0m \u001b[92mbadan\u001b[0m \u001b[91mberlebihan\u001b[0m (obesiti) \u001b[92matau\u001b[0m \u001b[92mlebih\u001b[0m \u001b[91mdikenali\u001b[0m \u001b[91msebagai\u001b[0m kegemukan. \u001b[91mOleh\u001b[0m itu, \u001b[92mkita\u001b[0m \u001b[91mmestilah\u001b[0m \u001b[91mmengetahui\u001b[0m cara-cara \u001b[92mmenjalani\u001b[0m \u001b[92mkehidupan\u001b[0m \u001b[92myang\u001b[0m \u001b[91msihat\u001b[0m \u001b[92magar\u001b[0m \u001b[92mdiri\u001b[0m \u001b[92mkita\u001b[0m \u001b[91mterhindar\u001b[0m \u001b[91mdaripada\u001b[0m \u001b[92mmasalah\u001b[0m \u001b[92mkesihatan\u001b[0m \u001b[91mtersebut\u001b[0m \u001b[92magar\u001b[0m \u001b[92mtidak\u001b[0m \u001b[91mmenjadi\u001b[0m \u001b[91mseperti\u001b[0m \u001b[92mperibahasa\u001b[0m \u001b[91mMelayu\u001b[0m “nasi \u001b[92msudah\u001b[0m \u001b[91mmenjadi\u001b[0m bubur”. \u001b[92mKehidupan\u001b[0m \u001b[92myang\u001b[0m sihat, \u001b[92mceria\u001b[0m , \u001b[91mbahagia\u001b[0m \u001b[92mdan\u001b[0m \u001b[92mselamat\u001b[0m \u001b[91msememangnya\u001b[0m \u001b[91mmerupakan\u001b[0m \u001b[91mimpian\u001b[0m \u001b[92msetiap\u001b[0m \u001b[92mmanusia\u001b[0m \u001b[92mdi\u001b[0m \u001b[92mdunia\u001b[0m ini. \u001b[92mBagi\u001b[0m \u001b[91mmencapai\u001b[0m \u001b[91mimpian\u001b[0m tersebut, \u001b[91mpengamalan\u001b[0m \u001b[92mcara\u001b[0m \u001b[92mhidup\u001b[0m \u001b[92myang\u001b[0m \u001b[91msihat\u001b[0m \u001b[91mmerupakan\u001b[0m \u001b[92mlangkah\u001b[0m \u001b[92myang\u001b[0m \u001b[91mseharusnya\u001b[0m diamalkan. \u001b[92mRakyat\u001b[0m \u001b[92mdi\u001b[0m \u001b[92mnegara\u001b[0m \u001b[91mMalaysia\u001b[0m \u001b[92mkini\u001b[0m \u001b[91msemakin\u001b[0m \u001b[92msedar\u001b[0m \u001b[92makan\u001b[0m \u001b[92mkepentingan\u001b[0m \u001b[91mmengamalkan\u001b[0m \u001b[91mdisiplin\u001b[0m \u001b[92mkehidupan\u001b[0m \u001b[92myang\u001b[0m \u001b[91msihat\u001b[0m \u001b[91msebagai\u001b[0m \u001b[92mcara\u001b[0m \u001b[92mhidup\u001b[0m \u001b[92mbagi\u001b[0m \u001b[91mmerealisasikan\u001b[0m \u001b[91mimpian\u001b[0m \u001b[92muntuk\u001b[0m \u001b[92mhidup\u001b[0m \u001b[92mlebih\u001b[0m \u001b[91msihat\u001b[0m , \u001b[91mbahagia\u001b[0m \u001b[92mdan\u001b[0m \u001b[92mselamat\u001b[0m \u001b[92mitu\u001b[0m tercapai. \u001b[92mIsi\u001b[0m \u001b[92mKandungan\u001b[0m \u001b[92mContoh\u001b[0m \u001b[92mKarangan\u001b[0m \u001b[92mAmalan\u001b[0m \u001b[92mGaya\u001b[0m \u001b[92mHidup\u001b[0m \u001b[91mSihat\u001b[0m \u001b[92mDan\u001b[0m \u001b[92mIsi\u001b[0m \u001b[92mPenting\u001b[0m 1. \u001b[91mMenjaga\u001b[0m \u001b[92mPemakanan\u001b[0m \u001b[91mSeharian\u001b[0m 2. \u001b[91mMelakukan\u001b[0m \u001b[92mSenaman\u001b[0m \u001b[92matau\u001b[0m \u001b[92mRiadah\u001b[0m 3. \u001b[91mJauhkan\u001b[0m \u001b[92mDiri\u001b[0m \u001b[91mDaripada\u001b[0m \u001b[92mTekanan\u001b[0m \u001b[92mDiri\u001b[0m 4. \u001b[91mMenjaga\u001b[0m \u001b[92mKebersihan\u001b[0m \u001b[92mRumah\u001b[0m \u001b[92mdan\u001b[0m \u001b[91mPersekitaran\u001b[0m 5. \u001b[91mMenghindarkan\u001b[0m \u001b[92mdiri\u001b[0m \u001b[91mdaripada\u001b[0m \u001b[92maktiviti\u001b[0m \u001b[92mnegatif\u001b[0m \u001b[92myang\u001b[0m \u001b[91mboleh\u001b[0m \u001b[91mmenjejaskan\u001b[0m \u001b[92mkesihatan\u001b[0m 6. \u001b[91mMendapatkan\u001b[0m \u001b[91mPemeriksaan\u001b[0m \u001b[92mKesihatan\u001b[0m \u001b[92mContoh\u001b[0m \u001b[92mKarangan\u001b[0m \u001b[92mAmalan\u001b[0m \u001b[92mGaya\u001b[0m \u001b[92mHidup\u001b[0m \u001b[91mSihat\u001b[0m \u001b[92mDan\u001b[0m \u001b[92mIsi\u001b[0m \u001b[92mPenting\u001b[0m \u001b[92mGaya\u001b[0m \u001b[92mhidup\u001b[0m \u001b[92myang\u001b[0m \u001b[91msihat\u001b[0m (GHS) \u001b[91mmerupakan\u001b[0m \u001b[92mkunci\u001b[0m \u001b[91mutama\u001b[0m \u001b[92mkepada\u001b[0m \u001b[91mkesejahteraan\u001b[0m insan. \u001b[92mInsan\u001b[0m \u001b[92myang\u001b[0m \u001b[91msihat\u001b[0m \u001b[91mpastinya\u001b[0m \u001b[92mdapat\u001b[0m \u001b[91mmemainkan\u001b[0m \u001b[91mperanan\u001b[0m \u001b[92maktif\u001b[0m \u001b[92mterhadap\u001b[0m \u001b[91mpembangunan\u001b[0m agama, \u001b[91mbangsa\u001b[0m \u001b[92mdan\u001b[0m negara. \u001b[91mGHS\u001b[0m \u001b[91mdidefinisikan\u001b[0m \u001b[91msebagai\u001b[0m \u001b[92msuatu\u001b[0m \u001b[92mkeadaan\u001b[0m fizikal, \u001b[91mminda\u001b[0m \u001b[92mdan\u001b[0m \u001b[92msosial\u001b[0m \u001b[92myang\u001b[0m sihat, cergas, \u001b[92mcerdas\u001b[0m \u001b[92mserta\u001b[0m \u001b[92mbebas\u001b[0m \u001b[92mdari\u001b[0m \u001b[91msebarang\u001b[0m \u001b[92mpenyakit\u001b[0m \u001b[91mberlandaskan\u001b[0m \u001b[92mkeadaan\u001b[0m \u001b[92msosial\u001b[0m \u001b[92mdan\u001b[0m masyarakat. \u001b[91mDefinisi\u001b[0m \u001b[92mini\u001b[0m \u001b[91mmenegaskan\u001b[0m \u001b[91mbahawa\u001b[0m \u001b[91mstatus\u001b[0m \u001b[92mgaya\u001b[0m \u001b[92mhidup\u001b[0m \u001b[92myang\u001b[0m \u001b[91msihat\u001b[0m \u001b[91mditunjangi\u001b[0m \u001b[91moleh\u001b[0m \u001b[92mfaktor\u001b[0m fizikal, \u001b[91mmental\u001b[0m \u001b[92mdan\u001b[0m \u001b[92msosial\u001b[0m \u001b[92myang\u001b[0m sihat, berfungsi, \u001b[91mcergas\u001b[0m \u001b[92mserta\u001b[0m \u001b[92mtidak\u001b[0m \u001b[91mdiancam\u001b[0m \u001b[91moleh\u001b[0m \u001b[91msebarang\u001b[0m \u001b[92mpenyakit\u001b[0m \u001b[92myang\u001b[0m \u001b[91mboleh\u001b[0m \u001b[91mmemudaratkan\u001b[0m insan. \u001b[92mTerdapat\u001b[0m \u001b[92mpelbagai\u001b[0m \u001b[92mcara\u001b[0m \u001b[92matau\u001b[0m \u001b[91mkaedah\u001b[0m \u001b[92muntuk\u001b[0m \u001b[91mdipraktikkan\u001b[0m \u001b[92mdalam\u001b[0m \u001b[91mmengamalkan\u001b[0m \u001b[92mkehidupan\u001b[0m \u001b[92myang\u001b[0m \u001b[91msihat\u001b[0m \u001b[91mantaranya\u001b[0m \u001b[92madalah\u001b[0m \u001b[92mdengan\u001b[0m \u001b[91mmenjaga\u001b[0m \u001b[92mpemakanan\u001b[0m seharian, \u001b[91mmelakukan\u001b[0m \u001b[92msenaman\u001b[0m \u001b[92matau\u001b[0m riadah, \u001b[91mjauhkan\u001b[0m \u001b[92mdiri\u001b[0m \u001b[91mdaripada\u001b[0m \u001b[92mtekanan\u001b[0m diri, \u001b[91mmenjaga\u001b[0m \u001b[92mkebersihan\u001b[0m \u001b[92mrumah\u001b[0m \u001b[92mdan\u001b[0m \u001b[91mpersekitaran\u001b[0m \u001b[91mdaripada\u001b[0m \u001b[91mterjebak\u001b[0m \u001b[91mmelakukan\u001b[0m \u001b[91mperkara\u001b[0m \u001b[92myang\u001b[0m \u001b[91mmenjejaskan\u001b[0m kesihatan, \u001b[92mdan\u001b[0m \u001b[91mmembuat\u001b[0m \u001b[91mpemeriksaan\u001b[0m \u001b[92mkesihatan\u001b[0m \u001b[91msecara\u001b[0m berkala. 1. \u001b[91mMenjaga\u001b[0m \u001b[92mPemakanan\u001b[0m \u001b[91mSeharian\u001b[0m \u001b[91mPerkara\u001b[0m \u001b[92mpaling\u001b[0m \u001b[92mpenting\u001b[0m \u001b[92mdalam\u001b[0m \u001b[91mmengamalkan\u001b[0m \u001b[92mgaya\u001b[0m \u001b[92mhidup\u001b[0m \u001b[91msihat\u001b[0m \u001b[92madalah\u001b[0m \u001b[92mdengan\u001b[0m \u001b[91mmengamalkan\u001b[0m \u001b[92mpemakanan\u001b[0m \u001b[92myang\u001b[0m seimbang. \u001b[91mIanya\u001b[0m \u001b[91mmeliputi\u001b[0m \u001b[92mpengambilan\u001b[0m \u001b[92mpelbagai\u001b[0m \u001b[92mjenis\u001b[0m \u001b[92mmakanan\u001b[0m \u001b[91mberdasarkan\u001b[0m \u001b[92mpiramid\u001b[0m \u001b[92mmakanan\u001b[0m \u001b[92myang\u001b[0m \u001b[91mdisarankan\u001b[0m \u001b[91moleh\u001b[0m \u001b[91mKementerian\u001b[0m \u001b[92mKesihatan\u001b[0m \u001b[91mMalaysia\u001b[0m (KKM). \u001b[92mAntara\u001b[0m makanan-makanan \u001b[92myang\u001b[0m \u001b[92mpaling\u001b[0m \u001b[91mutama\u001b[0m \u001b[92matau\u001b[0m \u001b[92mperlu\u001b[0m \u001b[91mdiambil\u001b[0m \u001b[91mberdasarkan\u001b[0m \u001b[92mpiramid\u001b[0m \u001b[92mmakanan\u001b[0m \u001b[92madalah\u001b[0m \u001b[92mmakanan\u001b[0m \u001b[92myang\u001b[0m \u001b[92mtinggi\u001b[0m \u001b[92mkandungan\u001b[0m \u001b[92mkarbohidrat\u001b[0m seperti: \u001b[92mNasi\u001b[0m \u001b[91mBijirin\u001b[0m \u001b[92mHal\u001b[0m \u001b[92mini\u001b[0m \u001b[91mdiperlukan\u001b[0m \u001b[91mker\u001b[0m \u001b[91mana\u001b[0m \u001b[92mkarbohidrat\u001b[0m \u001b[91mmembekalkan\u001b[0m \u001b[92mtenaga\u001b[0m \u001b[92muntuk\u001b[0m \u001b[91mmembolehkan\u001b[0m \u001b[92mtubuh\u001b[0m \u001b[92mbadan\u001b[0m \u001b[92mkita\u001b[0m \u001b[92mdapat\u001b[0m \u001b[92mmenjalankan\u001b[0m \u001b[92mpelbagai\u001b[0m \u001b[91murusan\u001b[0m \u001b[92mkehidupan\u001b[0m \u001b[91mse\u001b[0m harian. Seterusnya, \u001b[92mpengambilan\u001b[0m \u001b[92mmakanan\u001b[0m \u001b[92myang\u001b[0m \u001b[91mdigalakkan\u001b[0m \u001b[91mberdasarkan\u001b[0m \u001b[92mpiramid\u001b[0m \u001b[92mmakanan\u001b[0m \u001b[92madalah\u001b[0m seperti:- Sayur-sayuran Buah-buahan \u001b[91mMengambil\u001b[0m \u001b[92mmakanan\u001b[0m \u001b[91mtersebut\u001b[0m \u001b[92mdengan\u001b[0m \u001b[91msecukupnya\u001b[0m \u001b[92mpenting\u001b[0m \u001b[92muntuk\u001b[0m \u001b[91mmembekalkan\u001b[0m \u001b[91mvitamin\u001b[0m \u001b[92mserta\u001b[0m \u001b[92mserat\u001b[0m \u001b[92mkepada\u001b[0m \u001b[92mbadan\u001b[0m manusia. \u001b[92mDi\u001b[0m \u001b[91msamping\u001b[0m itu, \u001b[91mberdasarkan\u001b[0m \u001b[92mpiramid\u001b[0m \u001b[92mmakanan\u001b[0m juga, \u001b[92mia\u001b[0m \u001b[91mmenganjur\u001b[0m \u001b[91mkan\u001b[0m \u001b[92mpengurangan\u001b[0m \u001b[92mmakanan\u001b[0m \u001b[92myang\u001b[0m \u001b[91mmengandungi\u001b[0m lemak, minyak, garam, \u001b[92mdan\u001b[0m gula. \u001b[92mIni\u001b[0m \u001b[92mkerana\u001b[0m \u001b[92mia\u001b[0m \u001b[92mdapat\u001b[0m \u001b[91mmengelakk\u001b[0m \u001b[91man\u001b[0m \u001b[92mpelbagai\u001b[0m \u001b[92mpenyakit\u001b[0m \u001b[92mkronik\u001b[0m \u001b[91mseperti\u001b[0m \u001b[92mserangan\u001b[0m jantung, diabetes, \u001b[92mdarah\u001b[0m \u001b[92mtinggi\u001b[0m \u001b[92mdan\u001b[0m sebagainya. 2. \u001b[91mMelakukan\u001b[0m \u001b[92mSenaman\u001b[0m \u001b[92matau\u001b[0m \u001b[92mRiadah\u001b[0m \u001b[92mCara\u001b[0m \u001b[91mmengamalkan\u001b[0m \u001b[92mgaya\u001b[0m \u001b[92mhidup\u001b[0m \u001b[92myang\u001b[0m \u001b[91msihat\u001b[0m \u001b[92myang\u001b[0m \u001b[92mlain\u001b[0m \u001b[91mjuga\u001b[0m \u001b[92madalah\u001b[0m \u001b[92mdengan\u001b[0m \u001b[91mmelakukan\u001b[0m \u001b[92maktiviti\u001b[0m \u001b[92msenaman\u001b[0m \u001b[92mdan\u001b[0m \u001b[92mriadah\u001b[0m \u001b[92myang\u001b[0m \u001b[92mpenting\u001b[0m \u001b[92muntuk\u001b[0m \u001b[92mtubuh\u001b[0m \u001b[92mbadan\u001b[0m kita. \u001b[92mDengan\u001b[0m \u001b[91mmengamalkan\u001b[0m \u001b[92mpengambilan\u001b[0m \u001b[92mmakanan\u001b[0m \u001b[92mseimbang\u001b[0m \u001b[92mserta\u001b[0m \u001b[92mamalan\u001b[0m \u001b[92mbersenam\u001b[0m \u001b[92mdan\u001b[0m \u001b[91mberiadah\u001b[0m \u001b[91msecara\u001b[0m \u001b[91mkonsisten\u001b[0m ini, \u001b[91msekaligus\u001b[0m \u001b[92mdapat\u001b[0m \u001b[92mmembakar\u001b[0m \u001b[91mkalori\u001b[0m \u001b[92mdalam\u001b[0m \u001b[92mbadan\u001b[0m \u001b[92mdan\u001b[0m \u001b[91mjuga\u001b[0m \u001b[91mmengu\u001b[0m \u001b[91mrangkan\u001b[0m \u001b[92mmasalah\u001b[0m \u001b[92mpeningkatan\u001b[0m \u001b[92mberat\u001b[0m badan. \u001b[92mAktiviti\u001b[0m \u001b[92msenaman\u001b[0m \u001b[92mdan\u001b[0m \u001b[92mriadah\u001b[0m \u001b[91mboleh\u001b[0m \u001b[91mdilakukan\u001b[0m \u001b[91msekuran\u001b[0m g-kurangnya 3 \u001b[92mkali\u001b[0m seminggu. \u001b[92mAnggaran\u001b[0m \u001b[92mtempoh\u001b[0m \u001b[92mbagi\u001b[0m \u001b[92msetiap\u001b[0m \u001b[91msesi\u001b[0m \u001b[92msenaman\u001b[0m \u001b[92mdan\u001b[0m \u001b[92mriadah\u001b[0m \u001b[91mtersebut\u001b[0m \u001b[92madalah\u001b[0m \u001b[91mmemadai\u001b[0m \u001b[92muntuk\u001b[0m \u001b[91mdilakukan\u001b[0m \u001b[92mdalam\u001b[0m \u001b[92mmasa\u001b[0m 20 \u001b[92mhingga\u001b[0m 30 minit. 3. \u001b[91mJauhkan\u001b[0m \u001b[92mDiri\u001b[0m \u001b[91mDaripada\u001b[0m \u001b[92mTekanan\u001b[0m \u001b[92mDiri\u001b[0m \u001b[91mPengamalan\u001b[0m \u001b[91mjuga\u001b[0m \u001b[91mmelibatkan\u001b[0m \u001b[92mpengurusan\u001b[0m \u001b[92mtekanan\u001b[0m \u001b[92mdiri\u001b[0m \u001b[92matau\u001b[0m stres. \u001b[92mTekanan\u001b[0m \u001b[92mdiri\u001b[0m \u001b[92madalah\u001b[0m \u001b[92mgejala\u001b[0m \u001b[92mnegatif\u001b[0m \u001b[92myang\u001b[0m \u001b[91msemakin\u001b[0m \u001b[91mmenular\u001b[0m \u001b[92mdalam\u001b[0m \u001b[91mkalangan\u001b[0m \u001b[92mmasyarakat\u001b[0m \u001b[92mpada\u001b[0m \u001b[92mmasa\u001b[0m kini. \u001b[91mIanya\u001b[0m \u001b[91mmelibatkan\u001b[0m \u001b[92mtekanan\u001b[0m \u001b[92myang\u001b[0m \u001b[92msukar\u001b[0m \u001b[91mdikawal\u001b[0m \u001b[92msama\u001b[0m \u001b[92mada\u001b[0m \u001b[92mdi\u001b[0m \u001b[91mtempa\u001b[0m \u001b[92mt\u001b[0m \u001b[92mkerja\u001b[0m \u001b[92matau\u001b[0m \u001b[92mtempat\u001b[0m \u001b[92mbelajar\u001b[0m \u001b[91mselain\u001b[0m \u001b[91mdaripada\u001b[0m \u001b[92mmasalah\u001b[0m \u001b[92mrumah\u001b[0m tangga. \u001b[91mSeseorang\u001b[0m \u001b[92myang\u001b[0m \u001b[91mmengalami\u001b[0m \u001b[92mtekanan\u001b[0m \u001b[92mdiri\u001b[0m \u001b[92mini\u001b[0m \u001b[91mperlulah\u001b[0m \u001b[92mbijak\u001b[0m \u001b[92mmencari\u001b[0m \u001b[92mformula\u001b[0m \u001b[92muntuk\u001b[0m \u001b[91mmenguruskannya\u001b[0m \u001b[91msupaya\u001b[0m \u001b[92mfikiran\u001b[0m \u001b[92mtidak\u001b[0m \u001b[92mkusut\u001b[0m \u001b[92msehingga\u001b[0m \u001b[91mmengganggu\u001b[0m \u001b[92mkehidupan\u001b[0m \u001b[92mharian\u001b[0m \u001b[92mkita\u001b[0m \u001b[92mserta\u001b[0m \u001b[91makhirnya\u001b[0m \u001b[91mboleh\u001b[0m \u001b[91mmenjejaskan\u001b[0m \u001b[92mkesihatan\u001b[0m diri. \u001b[92mAntara\u001b[0m \u001b[92mlangkah\u001b[0m \u001b[92myang\u001b[0m \u001b[92mdapat\u001b[0m \u001b[91mdilakukan\u001b[0m \u001b[92muntuk\u001b[0m \u001b[91mmenangani\u001b[0m \u001b[92mtekanan\u001b[0m \u001b[92mdiri\u001b[0m \u001b[92mialah\u001b[0m seperti:- \u001b[91mMeminta\u001b[0m \u001b[92mpendapat\u001b[0m \u001b[92matau\u001b[0m \u001b[92mpandangan\u001b[0m \u001b[92morang\u001b[0m \u001b[92myang\u001b[0m \u001b[92mlebih\u001b[0m \u001b[92mpakar\u001b[0m \u001b[91mataupun\u001b[0m \u001b[91mkaunselor\u001b[0m \u001b[91mBerkongsi\u001b[0m \u001b[92mmasalah\u001b[0m \u001b[92mdengan\u001b[0m \u001b[92mrakan\u001b[0m \u001b[92matau\u001b[0m \u001b[92mkeluarga\u001b[0m \u001b[91mMendekatkan\u001b[0m \u001b[92mdiri\u001b[0m \u001b[92mkepada\u001b[0m \u001b[91mTuhan\u001b[0m \u001b[92mserta\u001b[0m \u001b[92maktiviti\u001b[0m \u001b[91mkeagamaan\u001b[0m \u001b[92muntuk\u001b[0m \u001b[92mterus\u001b[0m \u001b[91mmemotivasi\u001b[0m \u001b[92mdiri\u001b[0m \u001b[92mTekanan\u001b[0m \u001b[92mdiri\u001b[0m \u001b[92myang\u001b[0m \u001b[92mdapat\u001b[0m \u001b[91mdiuruskan\u001b[0m \u001b[91mdeng\u001b[0m \u001b[91man\u001b[0m \u001b[92mbaik\u001b[0m \u001b[91mmembolehkan\u001b[0m \u001b[92mdiri\u001b[0m \u001b[92mkita\u001b[0m \u001b[91msupaya\u001b[0m \u001b[92mhidup\u001b[0m \u001b[92mlebih\u001b[0m \u001b[91mbahagia\u001b[0m \u001b[92mdan\u001b[0m sihat. \u001b[92mGaya\u001b[0m \u001b[92mhidup\u001b[0m \u001b[92myang\u001b[0m \u001b[91msihat\u001b[0m \u001b[91mmemerlukan\u001b[0m \u001b[92mkita\u001b[0m \u001b[91msupaya\u001b[0m \u001b[92mterus\u001b[0m \u001b[92maktif\u001b[0m \u001b[92mdan\u001b[0m \u001b[92mkeluar\u001b[0m \u001b[92mdari\u001b[0m \u001b[92mrasa\u001b[0m \u001b[92mkemurungan\u001b[0m \u001b[91mdisebabkan\u001b[0m \u001b[92mtekanan\u001b[0m \u001b[92mdiri\u001b[0m \u001b[91mmahupun\u001b[0m \u001b[92mkehidupan\u001b[0m \u001b[92myang\u001b[0m \u001b[92mtidak\u001b[0m teratur. 4. \u001b[91mMenjaga\u001b[0m \u001b[92mKebersihan\u001b[0m \u001b[92mRumah\u001b[0m \u001b[92mdan\u001b[0m \u001b[91mPersekitaran\u001b[0m \u001b[92mAmalan\u001b[0m \u001b[91mseterusnya\u001b[0m \u001b[92mialah\u001b[0m \u001b[91mmenjaga\u001b[0m \u001b[92mkebersihan\u001b[0m \u001b[92mrumah\u001b[0m \u001b[92mdan\u001b[0m persekitaran. \u001b[92mIni\u001b[0m \u001b[92madalah\u001b[0m \u001b[92muntuk\u001b[0m \u001b[91mmengelak\u001b[0m \u001b[91mdaripada\u001b[0m \u001b[91mterjebak\u001b[0m \u001b[92matau\u001b[0m \u001b[91mterdedah\u001b[0m \u001b[92mkepada\u001b[0m \u001b[91mperkara\u001b[0m \u001b[92myang\u001b[0m \u001b[91mmenjejaskan\u001b[0m kesihatan. \u001b[91mAntaranya\u001b[0m \u001b[92madalah\u001b[0m \u001b[91mseperti\u001b[0m tempat-tempat \u001b[92myang\u001b[0m \u001b[91mmembolehkan\u001b[0m \u001b[92mnyamuk\u001b[0m \u001b[91mmembiak\u001b[0m \u001b[92mdan\u001b[0m \u001b[92mmenyumbang\u001b[0m \u001b[92mkepada\u001b[0m \u001b[92mpenyakit\u001b[0m \u001b[92mdemam\u001b[0m denggi. \u001b[91mSegala\u001b[0m \u001b[92msampah\u001b[0m \u001b[92msarap\u001b[0m \u001b[91mhendaklah\u001b[0m \u001b[91mdibuang\u001b[0m \u001b[92mke\u001b[0m \u001b[92mtempat\u001b[0m \u001b[92myang\u001b[0m dikhaskan. \u001b[92mPembuangan\u001b[0m \u001b[92msampah\u001b[0m \u001b[92msarap\u001b[0m \u001b[92mke\u001b[0m \u001b[92mdalam\u001b[0m \u001b[92msungai\u001b[0m \u001b[92matau\u001b[0m \u001b[92mke\u001b[0m \u001b[91mlongkang\u001b[0m \u001b[92mluar\u001b[0m \u001b[92mrumah\u001b[0m \u001b[91mjuga\u001b[0m \u001b[92madalah\u001b[0m \u001b[92mdilarang\u001b[0m \u001b[92mkerana\u001b[0m \u001b[92mia\u001b[0m \u001b[91mboleh\u001b[0m \u001b[91mmenyebabkan\u001b[0m \u001b[92mpencemaran\u001b[0m \u001b[92malam\u001b[0m sekitar. 5. \u001b[91mMenghindarkan\u001b[0m \u001b[92mdiri\u001b[0m \u001b[91mdaripada\u001b[0m \u001b[92maktiviti\u001b[0m \u001b[92mnegatif\u001b[0m \u001b[92myang\u001b[0m \u001b[91mboleh\u001b[0m \u001b[91mmenjejaskan\u001b[0m \u001b[92mkesihatan\u001b[0m \u001b[91mSelain\u001b[0m itu, \u001b[92mkita\u001b[0m \u001b[91mjuga\u001b[0m \u001b[91mhendaklah\u001b[0m \u001b[91mmengelakkan\u001b[0m aktiviti-aktiviti \u001b[92myang\u001b[0m \u001b[92mnegatif\u001b[0m \u001b[92myang\u001b[0m \u001b[91mmemberi\u001b[0m \u001b[91mimpak\u001b[0m \u001b[92mtidak\u001b[0m \u001b[92mbaik\u001b[0m \u001b[92mterhadap\u001b[0m \u001b[92mtubuh\u001b[0m \u001b[92mbadan\u001b[0m kita. \u001b[92mHal\u001b[0m \u001b[92mini\u001b[0m \u001b[91mdemikian\u001b[0m \u001b[92mkerana\u001b[0m \u001b[92maktiviti\u001b[0m \u001b[91msedemikian\u001b[0m \u001b[91mboleh\u001b[0m \u001b[91mmenjejaskan\u001b[0m \u001b[92mkesihatan\u001b[0m \u001b[92mtubuh\u001b[0m \u001b[92mbadan\u001b[0m \u001b[92mkita\u001b[0m \u001b[92mdalam\u001b[0m \u001b[92mjangka\u001b[0m \u001b[92mmasa\u001b[0m panjang. \u001b[92mContoh\u001b[0m \u001b[92maktiviti\u001b[0m \u001b[92mnegatif\u001b[0m \u001b[91mtersebut\u001b[0m \u001b[92madalah\u001b[0m seperti:- \u001b[91mPenagihan\u001b[0m \u001b[92mdadah\u001b[0m \u001b[92mKetagihan\u001b[0m \u001b[92marak\u001b[0m \u001b[91mSeks\u001b[0m \u001b[91mrambang\u001b[0m \u001b[91mMenghisap\u001b[0m \u001b[91mrokok\u001b[0m \u001b[91mSecara\u001b[0m jelasnya, \u001b[92mtabiat\u001b[0m \u001b[91mseperti\u001b[0m \u001b[91mmenghisap\u001b[0m \u001b[91mrokok\u001b[0m \u001b[92mini\u001b[0m \u001b[91mboleh\u001b[0m \u001b[91mmenyebabkan\u001b[0m \u001b[91mseseorang\u001b[0m \u001b[91mmendapat\u001b[0m \u001b[92mpenyakit\u001b[0m \u001b[92mjantung\u001b[0m \u001b[92mdan\u001b[0m paru-paru. \u001b[92mDengan\u001b[0m \u001b[91mmenghindari\u001b[0m \u001b[92mmerokok\u001b[0m juga, \u001b[92manda\u001b[0m \u001b[91mjuga\u001b[0m \u001b[92mdapat\u001b[0m \u001b[91mmenggunakan\u001b[0m \u001b[92mwang\u001b[0m \u001b[91mtersebut\u001b[0m \u001b[92muntuk\u001b[0m \u001b[91mmenabung\u001b[0m \u001b[92mdan\u001b[0m \u001b[91mbercuti\u001b[0m \u001b[92matau\u001b[0m \u001b[91mmelakukan\u001b[0m aktiviti-aktiviti \u001b[92mlain\u001b[0m \u001b[92myang\u001b[0m \u001b[92mdapat\u001b[0m \u001b[91mmemberi\u001b[0m keseronokkan. \u001b[92mTambahan\u001b[0m pula, \u001b[92mdengan\u001b[0m \u001b[91mmeminum\u001b[0m \u001b[92marak\u001b[0m \u001b[92makan\u001b[0m \u001b[91mmendatangkan\u001b[0m \u001b[91mimplikasi\u001b[0m \u001b[92mteruk\u001b[0m \u001b[92mkepada\u001b[0m \u001b[91mmental\u001b[0m \u001b[92mserta\u001b[0m \u001b[92mfizikal\u001b[0m \u001b[92mkepada\u001b[0m \u001b[92mmereka\u001b[0m \u001b[92myang\u001b[0m mengambilnya. \u001b[91mSelain\u001b[0m itu, \u001b[92mdengan\u001b[0m \u001b[91mterjebaknya\u001b[0m \u001b[91mseseorang\u001b[0m \u001b[92mitu\u001b[0m \u001b[92mkepada\u001b[0m \u001b[91mpenagihan\u001b[0m \u001b[92mdadah\u001b[0m \u001b[91mjuga\u001b[0m \u001b[91mboleh\u001b[0m \u001b[91mmenyebabkan\u001b[0m \u001b[92mpunca\u001b[0m \u001b[91mberlakunya\u001b[0m \u001b[92mgejala\u001b[0m \u001b[92msosial\u001b[0m \u001b[92mdalam\u001b[0m masyarakat. \u001b[91mSebagai\u001b[0m peringatan, \u001b[92msesiapa\u001b[0m \u001b[92myang\u001b[0m \u001b[91mterjebak\u001b[0m \u001b[92mdalam\u001b[0m \u001b[92maktiviti\u001b[0m \u001b[92mnegatif\u001b[0m \u001b[92mini\u001b[0m \u001b[91mbukan\u001b[0m \u001b[91msahaja\u001b[0m \u001b[92makan\u001b[0m \u001b[91mmenerima\u001b[0m \u001b[91mkemudaratan\u001b[0m \u001b[92mkepada\u001b[0m \u001b[92mdiri\u001b[0m sendiri, \u001b[91mbahkan\u001b[0m \u001b[91mjuga\u001b[0m \u001b[92mdipandang\u001b[0m \u001b[91mserong\u001b[0m \u001b[91mmalahan\u001b[0m \u001b[92mbakal\u001b[0m \u001b[91mdisisihkan\u001b[0m \u001b[91moleh\u001b[0m masyarakat. \u001b[91mOleh\u001b[0m itu, \u001b[91mmarilah\u001b[0m \u001b[92mkita\u001b[0m \u001b[92msemua\u001b[0m \u001b[91mmeningkatkan\u001b[0m \u001b[92mkesedaran\u001b[0m \u001b[92mdan\u001b[0m \u001b[91mkefahaman\u001b[0m \u001b[92mkita\u001b[0m \u001b[92mterhadap\u001b[0m \u001b[92mbahaya\u001b[0m \u001b[91mpenyalahgunaan\u001b[0m \u001b[92mdadah\u001b[0m \u001b[91mmahupun\u001b[0m \u001b[91mrokok\u001b[0m \u001b[92mserta\u001b[0m arak. \u001b[91mMengawal\u001b[0m \u001b[92mdan\u001b[0m \u001b[91mmencegah\u001b[0m \u001b[91mdaripada\u001b[0m \u001b[91mberlakunya\u001b[0m \u001b[92mkegiatan\u001b[0m \u001b[92mburuk\u001b[0m \u001b[92mini\u001b[0m \u001b[91mbukan\u001b[0m \u001b[91msahaja\u001b[0m \u001b[92muntuk\u001b[0m \u001b[91mmenjamin\u001b[0m \u001b[92mkesihatan\u001b[0m \u001b[92mindividu\u001b[0m semata-mata \u001b[91mmalahan\u001b[0m \u001b[91mmemberi\u001b[0m \u001b[92mkebaikan\u001b[0m \u001b[92mkepada\u001b[0m masyarakat. 6. \u001b[91mMendapatkan\u001b[0m \u001b[91mPemeriksaan\u001b[0m \u001b[92mKesihatan\u001b[0m \u001b[92mKebanyakan\u001b[0m \u001b[92morang\u001b[0m \u001b[92mdalam\u001b[0m \u001b[91mkalangan\u001b[0m \u001b[92mmasyarakat\u001b[0m \u001b[91mbiasanya\u001b[0m \u001b[92makan\u001b[0m \u001b[91mbe\u001b[0m \u001b[91mrjumpa\u001b[0m \u001b[92mdengan\u001b[0m \u001b[92mdoktor\u001b[0m \u001b[92mhanya\u001b[0m \u001b[92mbila\u001b[0m \u001b[92msudah\u001b[0m \u001b[92msakit\u001b[0m sahaja. \u001b[91mTetapi\u001b[0m \u001b[92mmereka\u001b[0m \u001b[91mlupa\u001b[0m \u001b[91mbahawa\u001b[0m \u001b[92mgaya\u001b[0m \u001b[92mhidup\u001b[0m \u001b[92myang\u001b[0m \u001b[91msihat\u001b[0m \u001b[92mitu\u001b[0m \u001b[91mmemerlukan\u001b[0m \u001b[91mseseorang\u001b[0m \u001b[91mmembuat\u001b[0m \u001b[91mpemeriksaan\u001b[0m \u001b[92mkesihatan\u001b[0m \u001b[91msecara\u001b[0m berkala. \u001b[91mPemeriksaan\u001b[0m \u001b[92mkesihatan\u001b[0m \u001b[92mini\u001b[0m \u001b[91mboleh\u001b[0m \u001b[92mdibuat\u001b[0m \u001b[92mdi\u001b[0m \u001b[92mhospital\u001b[0m \u001b[92mkerajaan\u001b[0m \u001b[92matau\u001b[0m \u001b[92mswasta\u001b[0m \u001b[92mdengan\u001b[0m \u001b[92mkekerapan\u001b[0m \u001b[92mmasa\u001b[0m \u001b[91msebanyak\u001b[0m \u001b[92mdua\u001b[0m \u001b[92mkali\u001b[0m setahun. \u001b[92mDengan\u001b[0m \u001b[91mmengetahui\u001b[0m \u001b[92mtahap\u001b[0m \u001b[92mkesihatan\u001b[0m kita, \u001b[92mkita\u001b[0m \u001b[91mboleh\u001b[0m \u001b[91mmegambil\u001b[0m \u001b[92mlangkah\u001b[0m \u001b[91mtertentu\u001b[0m \u001b[92mbagi\u001b[0m \u001b[91mmemastikan\u001b[0m \u001b[92mkesihatan\u001b[0m \u001b[92mkita\u001b[0m \u001b[92mterus\u001b[0m \u001b[91mberada\u001b[0m \u001b[92mdalam\u001b[0m \u001b[91mkeaaan\u001b[0m baik. \u001b[91mSecara\u001b[0m kesimpulannya, \u001b[92mterdapat\u001b[0m \u001b[92mbanyak\u001b[0m \u001b[92mamalan\u001b[0m \u001b[92myang\u001b[0m \u001b[92mperlu\u001b[0m \u001b[92mkita\u001b[0m \u001b[91mlakukan\u001b[0m \u001b[91mantaranya\u001b[0m \u001b[91mseperti\u001b[0m \u001b[91mperkara\u001b[0m \u001b[92myang\u001b[0m \u001b[91mdinyatakan\u001b[0m \u001b[92mdi\u001b[0m \u001b[92matas\u001b[0m \u001b[92muntuk\u001b[0m \u001b[91mmembolehkan\u001b[0m \u001b[92mkita\u001b[0m \u001b[91msupaya\u001b[0m \u001b[92mterus\u001b[0m \u001b[92mhidup\u001b[0m sihat. \u001b[92mAmalan\u001b[0m \u001b[92mini\u001b[0m \u001b[91mharus\u001b[0m \u001b[91mdipupuk\u001b[0m \u001b[92mserta\u001b[0m \u001b[91mdisedari\u001b[0m \u001b[91moleh\u001b[0m \u001b[92mkita\u001b[0m \u001b[92msejak\u001b[0m \u001b[91mdaripada\u001b[0m \u001b[92mkecil\u001b[0m lagi. \u001b[92mIbu\u001b[0m \u001b[92mbapa\u001b[0m \u001b[92mserta\u001b[0m \u001b[91manggota\u001b[0m \u001b[92mkeluarga\u001b[0m \u001b[92mlain\u001b[0m \u001b[91mjuga\u001b[0m \u001b[91mmemainkan\u001b[0m \u001b[91mperanan\u001b[0m \u001b[92mdalam\u001b[0m \u001b[91mmendidik\u001b[0m \u001b[92mkita\u001b[0m \u001b[91mmengamalkan\u001b[0m \u001b[92mgaya\u001b[0m \u001b[92mkehidupan\u001b[0m ini. \u001b[92mAkhir\u001b[0m sekali, \u001b[92mperibahasa\u001b[0m \u001b[91mMelayu\u001b[0m \u001b[92mada\u001b[0m \u001b[91mmenyebut\u001b[0m “mencegah \u001b[92mitu\u001b[0m \u001b[92mlebih\u001b[0m \u001b[92mbaik\u001b[0m \u001b[92mdari\u001b[0m mengubati” \u001b[91mmaka\u001b[0m \u001b[91mmarilah\u001b[0m \u001b[92mkita\u001b[0m sama-sama \u001b[91mmengamalkan\u001b[0m \u001b[92mgaya\u001b[0m \u001b[92mhidup\u001b[0m \u001b[91msihat\u001b[0m \u001b[92msebelum\u001b[0m terlambat. \u001b[91mRelated\u001b[0m : \u001b[92mkencing\u001b[0m manis, \u001b[91mmengurangkan\u001b[0m risiko, \u001b[92mmakanan\u001b[0m harian, \u001b[92maktiviti\u001b[0m fizikal, \u001b[92msalah\u001b[0m satu, \u001b[92mtekanan\u001b[0m \u001b[92mdarah\u001b[0m tinggi, \u001b[92mpenyakit\u001b[0m berbahaya, \u001b[92muntuk\u001b[0m memberikan, \u001b[92mrisiko\u001b[0m penyakit, \u001b[91mpilihlah\u001b[0m \u001b[92mmakanan\u001b[0m \u001b[91mShare\u001b[0m \u001b[91mFacebook\u001b[0m \u001b[91mTwitter\u001b[0m \u001b[91mLinkedIn\u001b[0m \u001b[91mPinterest\u001b[0m \u001b[91mWhatsApp\u001b[0m \u001b[91mTelegram\u001b[0m \u001b[91mINFORMASI\u001b[0m \u001b[91mBERKAITAN\u001b[0m \u001b[92mAktiviti\u001b[0m \u001b[92mBadan\u001b[0m \u001b[91mBeruniform\u001b[0m \u001b[92mSerta\u001b[0m \u001b[91mFaedahnya\u001b[0m (Karangan) \u001b[91mFaedah\u001b[0m \u001b[91mMenyertai\u001b[0m \u001b[92mKerja\u001b[0m \u001b[91mAmal\u001b[0m \u001b[92mDan\u001b[0m \u001b[91mSukarelawan\u001b[0m \u001b[92mAktiviti\u001b[0m \u001b[91mBerfaedah\u001b[0m \u001b[92mUntuk\u001b[0m \u001b[91mMengisi\u001b[0m \u001b[92mMasa\u001b[0m \u001b[92mLapang\u001b[0m \u001b[92mCara\u001b[0m \u001b[92mDan\u001b[0m \u001b[92mLangkah\u001b[0m \u001b[91mMemartabatkan\u001b[0m \u001b[92mBahasa\u001b[0m \u001b[91mMalaysia\u001b[0m \u001b[92mPunca\u001b[0m \u001b[92mDan\u001b[0m \u001b[92mKesan\u001b[0m \u001b[92mRasuah\u001b[0m \u001b[92mKepada\u001b[0m \u001b[92mNegara\u001b[0m Punca-Punca \u001b[91mBerlakunya\u001b[0m \u001b[91mPenderaan\u001b[0m Kanak-Kanak \u001b[92mTerkini\u001b[0m \u001b[92mNiat\u001b[0m \u001b[92mPuasa\u001b[0m \u001b[92mHari\u001b[0m \u001b[91mArafah\u001b[0m 9 \u001b[91mZulhijjah\u001b[0m \u001b[91mBeserta\u001b[0m \u001b[92mDoa\u001b[0m \u001b[92mPermohonan\u001b[0m \u001b[92mKursus\u001b[0m \u001b[91mTVET\u001b[0m \u001b[91mOnline\u001b[0m \u001b[92mAmbilan\u001b[0m \u001b[91mJanuari\u001b[0m 2025 \u001b[92mUjian\u001b[0m \u001b[92mAkhir\u001b[0m \u001b[91mSesi\u001b[0m \u001b[91mAkademik\u001b[0m (UASA) : \u001b[91mFormat\u001b[0m & \u001b[92mContoh\u001b[0m \u001b[92mSoalan\u001b[0m \u001b[91mInfo\u001b[0m \u001b[91mBerkaitan\u001b[0m Punca-Punca \u001b[91mBerlakunya\u001b[0m \u001b[91mPenderaan\u001b[0m Kanak-Kanak Cara-Cara \u001b[91mMengatasi\u001b[0m \u001b[92mAmalan\u001b[0m \u001b[92mRasuah\u001b[0m \u001b[92mDi\u001b[0m \u001b[91mMalaysia\u001b[0m \u001b[92mLangkah\u001b[0m \u001b[91mMengatasi\u001b[0m \u001b[92mMasalah\u001b[0m \u001b[91mPengabaian\u001b[0m \u001b[92mWarga\u001b[0m \u001b[92mTua\u001b[0m \u001b[91mTrending\u001b[0m Cara-Cara \u001b[92mUntuk\u001b[0m \u001b[91mMenghargai\u001b[0m \u001b[92mWarga\u001b[0m \u001b[92mTua\u001b[0m Ciri-Ciri \u001b[92mPelajar\u001b[0m \u001b[92mCemerlang\u001b[0m (Contoh Karangan) Cara-Cara \u001b[91mMempopularkan\u001b[0m \u001b[92mPermainan\u001b[0m \u001b[91mTradisional\u001b[0m Ipendidikan.MY \u001b[91mCopyright\u001b[0m 2024 | \u001b[91mHakcipta\u001b[0m Terpelihara. \u001b[92mClose\u001b[0m Cari:\n"
     ]
    }
   ],
   "source": [
    "#Separate words into two groups\n",
    "covered_words = [row[\"Kata\"] for row in word_freq_data if row[\"Coverage_in_Lexicon\"]]\n",
    "uncovered_words = [row[\"Kata\"] for row in word_freq_data if not row[\"Coverage_in_Lexicon\"]]\n",
    "uncovered_freq = [row[\"Frequency\"] for row in word_freq_data if not row[\"Coverage_in_Lexicon\"]]\n",
    "\n",
    "highlighted_full_text = CoverageFunction.highlight_text(articles, covered_words, uncovered_words)\n",
    "\n",
    "print(\"Highlighted Article:\")\n",
    "print(highlighted_full_text)"
   ]
  },
  {
   "cell_type": "code",
   "execution_count": 9,
   "id": "a29fb295-83a1-46a9-ba28-c1ab6307b942",
   "metadata": {},
   "outputs": [
    {
     "data": {
      "image/png": "[encoded data removed]",
      "text/plain": [
       "<Figure size 600x600 with 1 Axes>"
      ]
     },
     "metadata": {},
     "output_type": "display_data"
    }
   ],
   "source": [
    "#Pie Chart for Visualization\n",
    "coverage_counts = [len(covered_words), len(uncovered_words)]\n",
    "labels = [\"Covered\", \"Uncovered\"]\n",
    "colors = [\"green\", \"red\"]\n",
    "\n",
    "plt.figure(figsize=(6, 6))\n",
    "plt.pie(\n",
    "    coverage_counts, labels=labels, colors=colors, autopct=\"%1.1f%%\", startangle=140\n",
    ")\n",
    "plt.title(\"Lexicon Coverage\")\n",
    "plt.show()"
   ]
  },
  {
   "cell_type": "code",
   "execution_count": 10,
   "id": "914325fa-c2c6-4b4f-a739-fdf237fdc05e",
   "metadata": {},
   "outputs": [],
   "source": [
    "#Stop Spark session\n",
    "spark.stop()"
   ]
  },
  {
   "cell_type": "code",
   "execution_count": null,
   "id": "bfb057ee-b459-4358-9381-47d4d6c0fbfd",
   "metadata": {},
   "outputs": [],
   "source": []
  }
 ],
 "metadata": {
  "kernelspec": {
   "display_name": "de-venv",
   "language": "python",
   "name": "de-venv"
  },
  "language_info": {
   "codemirror_mode": {
    "name": "ipython",
    "version": 3
   },
   "file_extension": ".py",
   "mimetype": "text/x-python",
   "name": "python",
   "nbconvert_exporter": "python",
   "pygments_lexer": "ipython3",
   "version": "3.10.12"
  }
 },
 "nbformat": 4,
 "nbformat_minor": 5
}
